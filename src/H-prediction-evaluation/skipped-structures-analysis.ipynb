{
 "cells": [
  {
   "cell_type": "code",
   "execution_count": 2,
   "metadata": {},
   "outputs": [
    {
     "name": "stdout",
     "output_type": "stream",
     "text": [
      "4x19M-O-P\n",
      "1fd4G-H\n",
      "5aonA-B\n",
      "1fe6A-D\n",
      "7nbcAAA-CCC\n",
      "5wm9B-C\n",
      "3la7A-B\n",
      "3bk9E-H\n",
      "2czdA-B\n",
      "3ve9A-B\n",
      "5ujpA-B\n",
      "7np0A-B\n",
      "1tmiA-B\n",
      "3hrmA-B\n",
      "2nt1A-B\n",
      "2xdoA-C\n",
      "3b1oA-B\n",
      "5h8kI-J\n",
      "3kjrA-B\n",
      "8gxjB-C\n",
      "2idjA-B\n",
      "5m7rA-B\n",
      "4z0yB-D-F-H\n",
      "2zcgA-B\n",
      "5n49A-B\n",
      "8hc1D-H\n",
      "3lnzC-O\n",
      "1xxoA-B\n",
      "8h49A-B\n",
      "6syhA-B\n",
      "1g1mA-B\n",
      "3pfpA-B\n",
      "5dy9H-I\n",
      "4p32A-B\n",
      "2huwA-B\n",
      "5gmcA-B\n",
      "1r3mA-B\n",
      "3x0xE-G\n"
     ]
    }
   ],
   "source": [
    "failed_structures = ['5ighA', '1se8A', '5yj2C', '3bjpA', '4fkmB', '2phzA', '3mwgB', '3t8bA', '4dncB', '2dfpA', '7nbcCCC', '5acvB', '4bg8A', '1h13A', '4jaxF', '2vqzF', '3uyiA', '2vyrA', '1x2gC', '7c48A', '3pfpA', '7qzrD', '1k47D']\n",
    "all_skipped_structures = ['4x19M-O-P', '5ighA', '1se8A', '5yj2C', '1fd4G-H', '3bjpA', '5aonA-B', '4fkmB', '2phzA', '3mwgB', '3t8bA', '1fe6A-D', '4dncB', '2dfpA', '7nbcAAA-CCC', '5acvB', '5wm9B-C', '3la7A-B', '3bk9E-H', '2czdA-B', '3ve9A-B', '5ujpA-B', '7np0A-B', '1tmiA-B', '3hrmA-B', '4bg8A', '1h13A', '2nt1A-B', '2xdoA-C', '3b1oA-B', '4jaxF', '5h8kI-J', '3kjrA-B', '8gxjB-C', '2idjA-B', '2vqzF', '3uyiA', '5m7rA-B', '4z0yB-D-F-H', '2zcgA-B', '5n49A-B', '8hc1D-H', '2vyrA', '3lnzC-O', '1xxoA-B', '8h49A-B', '6syhA-B', '1x2gC', '1g1mA-B', '7c48A', '3pfpA-B', '5dy9H-I', '7qzrD', '4p32A-B', '1k47D', '2huwA-B', '5gmcA-B', '1r3mA-B', '3x0xE-G']\n",
    "skipped_multichain_structures = []\n",
    "for i in all_skipped_structures:\n",
    "    if i not in failed_structures:\n",
    "        assert '-' in i, i\n",
    "        skipped_multichain_structures.append(i)\n",
    "        print(i)\n"
   ]
  },
  {
   "cell_type": "code",
   "execution_count": 3,
   "metadata": {},
   "outputs": [
    {
     "name": "stdout",
     "output_type": "stream",
     "text": [
      "4x19M-O-P\n",
      "1fd4G-H\n",
      "5aonA-B\n",
      "1fe6A-D\n",
      "7nbcAAA-CCC\n",
      "5wm9B-C\n",
      "3la7A-B\n",
      "3bk9E-H\n",
      "2czdA-B\n",
      "3ve9A-B\n",
      "5ujpA-B\n",
      "7np0A-B\n",
      "1tmiA-B\n",
      "3hrmA-B\n",
      "2nt1A-B\n",
      "2xdoA-C\n",
      "3b1oA-B\n",
      "5h8kI-J\n",
      "3kjrA-B\n",
      "8gxjB-C\n",
      "2idjA-B\n",
      "5m7rA-B\n",
      "4z0yB-D-F-H\n",
      "2zcgA-B\n",
      "5n49A-B\n",
      "8hc1d-h\n",
      "3lnzC-O\n",
      "1xxoA-B\n",
      "8h49A-B\n",
      "6syhA-B\n",
      "1g1mA-B\n",
      "3pfpA-B\n",
      "5dy9H-I\n",
      "4p32A-B\n",
      "2huwA-B\n",
      "5gmcA-B\n",
      "1r3mA-B\n",
      "3x0xE-G\n"
     ]
    }
   ],
   "source": [
    "# p2rank skipped \n",
    "import json\n",
    "\n",
    "is_in_p2rank = ['1arlA', '1bk2A', '1bzjA', '1cwqA', '1dq2A', '1e6kA', '1evyA', '1g59A', '1h13A', '1i7nA', '1k47D', '1ksgB', '1kx9A', '1kxrA', '1lbeB', '1m5wD', '1nd7A', '1p4oB', '1p4vA', '1p9oA', '1pu5C', '1q4kA', '1rjbA', '1rtcA', '1se8A', '1ukaA', '1uteA', '1vsnA', '1x2gC', '1xgdA', '1xjfA', '1xqvA', '1xtcA', '1zm0A', '2akaA', '2d05A', '2dfpA', '2femA', '2fhzB', '2h7sA', '2i3aD', '2i3rA', '2iytA', '2phzA', '2pkfA', '2pwzG', '2qbvA', '2rfjB', '2v6mD', '2vl2C', '2vqzF', '2vyrA', '2w8nA', '2x47A', '2xsaA', '2zj7A', '3a0xA', '3bjpA', '3f4kA', '3flgA', '3fzoA', '3gdgB', '3h8aB', '3i8sB', '3idhA', '3jzgA', '3k01A', '3ly8A', '3mwgB', '3n4uA', '3nx1B', '3pbfA', '3rwvA', '3st6C', '3t8bA', '3tpoA', '3ugkA', '3uyiA', '3v55A', '3vgmA', '3w90A', '3wb9C', '4aemA', '4amvB', '4bg8A', '4cmwB', '4dncB', '4e1yA', '4fkmB', '4gpiC', '4gv9A', '4hyeA', '4ikvA', '4ilgA', '4j4eF', '4jaxF', '4jfrC', '4kmyA', '4mwiA', '4nzvB', '4oqoB', '4p2fA', '4qvkB', '4r0xA', '4rvtB', '4ttpA', '4uc8A', '4uumA', '4zm7A', '4zoeB', '5acvB', '5b0eB', '5cazA', '5e0vA', '5ey7B', '5hijA', '5htoE', '5i3tE', '5ighA', '5kcgB', '5locA', '5o8bA', '5sc2A', '5tc0B', '5tviV', '5uxaA', '5wbmB', '5yhbA', '5yj2C', '5yqpA', '5ysbB', '5z18C', '5zj4D', '6a98C', '6btyB', '6cqeB', '6du4A', '6eqjA', '6f52A', '6fc2C', '6fgjB', '6g6yA', '6heiA', '6isuA', '6jq9B', '6kscA', '6n5jB', '6neiB', '6o4fH', '6tx0B', '6vleA', '6w10A', '7c48A', '7c63A', '7de1A', '7e5qB', '7f2mB', '7f4yB', '7kayA', '7nc8D', '7ndlB', '7nlxA', '7o1iA', '7qoqA', '7qzrD', '7v8kB', '7w19A', '7x0fA', '7x0gB', '7x0iB', '7xgfE', '7yjcA', '8aeqA', '8aqiB', '8b9pA', '8breB', '8h27A', '8i84B', '8iasB', '8j11X', '8onnE', '8u3nA', '8vxuB', '9atcA']\n",
    "DATASET_PATH = '/home/vit/Projects/cryptobench/data/E-add-noncryptic-pockets/ahoj-v2/cryptobench/folds/test.json'\n",
    "\n",
    "with open(DATASET_PATH, 'r') as f:\n",
    "    ds = json.load(f)\n",
    "\n",
    "for apo, holos in ds.items():\n",
    "    id = apo + holos[0]['apo_chain']\n",
    "    if id not in is_in_p2rank:\n",
    "        print(id)"
   ]
  }
 ],
 "metadata": {
  "kernelspec": {
   "display_name": "Python 3",
   "language": "python",
   "name": "python3"
  },
  "language_info": {
   "codemirror_mode": {
    "name": "ipython",
    "version": 3
   },
   "file_extension": ".py",
   "mimetype": "text/x-python",
   "name": "python",
   "nbconvert_exporter": "python",
   "pygments_lexer": "ipython3",
   "version": "3.11.6"
  }
 },
 "nbformat": 4,
 "nbformat_minor": 2
}
