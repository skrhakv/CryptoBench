{
 "cells": [
  {
   "cell_type": "code",
   "execution_count": 6,
   "metadata": {},
   "outputs": [
    {
     "name": "stdout",
     "output_type": "stream",
     "text": [
      "Number of values: 1107\n"
     ]
    }
   ],
   "source": [
    "import json\n",
    "\n",
    "DATASET_PATH = '../../data/B-create-dataset/ahoj-v2/dataset.json'\n",
    "\n",
    "def get_dataset_length(path):\n",
    "    with open(path, 'r') as f:\n",
    "        ds = json.load(f)\n",
    "\n",
    "    counter = 0\n",
    "    for _, _ in ds.items():\n",
    "        counter += 1\n",
    "\n",
    "    print(f'Number of values: {counter}')\n",
    "    \n",
    "get_dataset_length(DATASET_PATH)"
   ]
  },
  {
   "cell_type": "code",
   "execution_count": 9,
   "metadata": {},
   "outputs": [
    {
     "name": "stdout",
     "output_type": "stream",
     "text": [
      "Number of multichain structures: 175\n",
      "Number of singlechain structures: 961\n",
      "Number of regular ligands: 1103\n"
     ]
    }
   ],
   "source": [
    "def contains_dash(s):\n",
    "    if '-' in s:\n",
    "        return True\n",
    "    return False\n",
    "\n",
    "def get_number_of_multichain(path):\n",
    "    with open(path, 'r') as f:\n",
    "        ds = json.load(f)\n",
    "\n",
    "    counter = 0\n",
    "    for _, holo_structures in ds.items():\n",
    "        for holo_structure in holo_structures:\n",
    "            if contains_dash(holo_structure['holo_chain']):\n",
    "                counter += 1\n",
    "                break\n",
    "\n",
    "    print(f'Number of multichain structures: {counter}')\n",
    "\n",
    "def get_number_of_singlechain(path):\n",
    "    with open(path, 'r') as f:\n",
    "        ds = json.load(f)\n",
    "\n",
    "    counter = 0\n",
    "    for _, holo_structures in ds.items():\n",
    "        for holo_structure in holo_structures:\n",
    "            if not contains_dash(holo_structure['holo_chain']):\n",
    "                counter += 1\n",
    "                break\n",
    "\n",
    "    print(f'Number of singlechain structures: {counter}')\n",
    "\n",
    "\n",
    "IGNORED_GROUPS_LIST = ['HOH', 'DOD', 'WAT', 'UNK', 'ABA', 'MPD', 'GOL', 'SO4', 'PO4']\n",
    "\n",
    "def contains_normal_ligand(s):\n",
    "    if len(s) > 2 and s not in IGNORED_GROUPS_LIST:\n",
    "        return True\n",
    "    return False\n",
    "\n",
    "# something like normal ligand - ligand name longer than 2 (it is very random)\n",
    "def get_number_of_normal_ligands(path):\n",
    "    with open(path, 'r') as f:\n",
    "        ds = json.load(f)\n",
    "\n",
    "    counter = 0\n",
    "    for _, holo_structures in ds.items():\n",
    "        for holo_structure in holo_structures:\n",
    "            if contains_normal_ligand(holo_structure['ligand']):\n",
    "                counter += 1\n",
    "                break\n",
    "\n",
    "    print(f'Number of regular ligands: {counter}')\n",
    "\n",
    "get_number_of_multichain(DATASET_PATH)\n",
    "get_number_of_singlechain(DATASET_PATH)\n",
    "get_number_of_normal_ligands(DATASET_PATH)\n"
   ]
  },
  {
   "cell_type": "code",
   "execution_count": 3,
   "metadata": {},
   "outputs": [
    {
     "name": "stdout",
     "output_type": "stream",
     "text": [
      "Number of values: 1107\n"
     ]
    }
   ],
   "source": [
    "DATASET_PATH = '/home/vit/Projects/cryptobench/data/C-remove-holo-homomers/ahoj-v2/dataset.json'\n",
    "get_dataset_length(f'{OUTPUT_PATH}/dataset.json')\n"
   ]
  }
 ],
 "metadata": {
  "kernelspec": {
   "display_name": "Python 3",
   "language": "python",
   "name": "python3"
  },
  "language_info": {
   "codemirror_mode": {
    "name": "ipython",
    "version": 3
   },
   "file_extension": ".py",
   "mimetype": "text/x-python",
   "name": "python",
   "nbconvert_exporter": "python",
   "pygments_lexer": "ipython3",
   "version": "3.11.6"
  }
 },
 "nbformat": 4,
 "nbformat_minor": 2
}
