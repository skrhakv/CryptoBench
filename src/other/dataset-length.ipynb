{
 "cells": [
  {
   "cell_type": "code",
   "execution_count": 5,
   "metadata": {},
   "outputs": [
    {
     "name": "stdout",
     "output_type": "stream",
     "text": [
      "Number of values: 615\n",
      "Number of values: 967\n"
     ]
    }
   ],
   "source": [
    "import json\n",
    "\n",
    "DATASET_PATH = '../../data/B-create-dataset/multi-chain/dataset.json'\n",
    "COVALENT_DATASET_PATH = '../../data/B-create-dataset/multi-chain-with-covalent-ligands/dataset.json'\n",
    "\n",
    "def get_dataset_length(path):\n",
    "    with open(path, 'r') as f:\n",
    "        ds = json.load(f)\n",
    "\n",
    "    counter = 0\n",
    "    for _, _ in ds.items():\n",
    "        counter += 1\n",
    "\n",
    "    print(f'Number of values: {counter}')\n",
    "    \n",
    "get_dataset_length(DATASET_PATH)\n",
    "get_dataset_length(COVALENT_DATASET_PATH)"
   ]
  },
  {
   "cell_type": "code",
   "execution_count": 15,
   "metadata": {},
   "outputs": [
    {
     "name": "stdout",
     "output_type": "stream",
     "text": [
      "Number of values: 1243\n",
      "Number of multichain structures: 100\n",
      "Number of multichain structures: 967\n"
     ]
    }
   ],
   "source": [
    "ALL_LIGANDS_DATASET_PATH = '../../data/B-create-dataset/multi-chain-all-biolip-ligands/dataset.json'\n",
    "get_dataset_length(ALL_LIGANDS_DATASET_PATH)\n",
    "\n",
    "def contains_dash(s):\n",
    "    if '-' in s:\n",
    "        return True\n",
    "    return False\n",
    "\n",
    "def get_number_of_multichain(path):\n",
    "    with open(path, 'r') as f:\n",
    "        ds = json.load(f)\n",
    "\n",
    "    counter = 0\n",
    "    for _, holo_structures in ds.items():\n",
    "        for holo_structure in holo_structures:\n",
    "            if contains_dash(holo_structure['holo_chain']):\n",
    "                counter += 1\n",
    "                break\n",
    "\n",
    "    print(f'Number of multichain structures: {counter}')\n",
    "\n",
    "\n",
    "IGNORED_GROUPS_LIST = ['HOH', 'DOD', 'WAT', 'NAG',\n",
    "                       'MAN', 'UNK', 'GLC', 'ABA', 'MPD', 'GOL', 'SO4', 'PO4']\n",
    "\n",
    "def contains_normal_ligand(s):\n",
    "    if len(s) > 2 and s not in IGNORED_GROUPS_LIST:\n",
    "        return True\n",
    "    return False\n",
    "\n",
    "# something like normal ligand - ligand name longer than 2 (it is very random)\n",
    "def get_number_of_normal_ligands(path):\n",
    "    with open(path, 'r') as f:\n",
    "        ds = json.load(f)\n",
    "\n",
    "    counter = 0\n",
    "    for _, holo_structures in ds.items():\n",
    "        for holo_structure in holo_structures:\n",
    "            if contains_normal_ligand(holo_structure['ligand']):\n",
    "                counter += 1\n",
    "                break\n",
    "\n",
    "    print(f'Number of multichain structures: {counter}')\n",
    "\n",
    "get_number_of_multichain(ALL_LIGANDS_DATASET_PATH)\n",
    "get_number_of_normal_ligands(ALL_LIGANDS_DATASET_PATH)\n"
   ]
  }
 ],
 "metadata": {
  "kernelspec": {
   "display_name": "Python 3",
   "language": "python",
   "name": "python3"
  },
  "language_info": {
   "codemirror_mode": {
    "name": "ipython",
    "version": 3
   },
   "file_extension": ".py",
   "mimetype": "text/x-python",
   "name": "python",
   "nbconvert_exporter": "python",
   "pygments_lexer": "ipython3",
   "version": "3.11.6"
  }
 },
 "nbformat": 4,
 "nbformat_minor": 2
}
