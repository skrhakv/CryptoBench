{
 "cells": [
  {
   "cell_type": "code",
   "execution_count": 7,
   "metadata": {},
   "outputs": [],
   "source": [
    "import pandas as pd\n",
    "\n",
    "DATASET_PATH = '../../data/B-create-dataset/with-sugars-without-ions'"
   ]
  },
  {
   "cell_type": "code",
   "execution_count": 8,
   "metadata": {},
   "outputs": [
    {
     "name": "stderr",
     "output_type": "stream",
     "text": [
      "/tmp/ipykernel_40415/2327227496.py:1: DtypeWarning: Columns (30,31,35,36,63,75,76,80,81,95,96) have mixed types. Specify dtype option on import or set low_memory=False.\n",
      "  df = pd.read_csv(f'{DATASET_PATH}/filtered_rmsd_seq_len.csv')\n"
     ]
    }
   ],
   "source": [
    "df = pd.read_csv(f'{DATASET_PATH}/filtered_rmsd_seq_len.csv')"
   ]
  },
  {
   "cell_type": "code",
   "execution_count": 12,
   "metadata": {},
   "outputs": [
    {
     "data": {
      "text/plain": [
       "24"
      ]
     },
     "execution_count": 12,
     "metadata": {},
     "output_type": "execute_result"
    }
   ],
   "source": [
    "import json\n",
    "\n",
    "def create_pymol_script(apo_pdb_id, holo_structure):\n",
    "\n",
    "    holo_pdb_id = holo_structure['holo_pdb_id']\n",
    "    apo_chain = holo_structure['apo_chain']\n",
    "    holo_chain = holo_structure['holo_chain']\n",
    "    apo_selection = holo_structure['apo_pymol_selection']\n",
    "    holo_selection = holo_structure['holo_pymol_selection']\n",
    "    ligand = holo_structure['ligand']\n",
    "    with open(f'pymol-scripts/sugar-pymol-scripts/{apo_pdb_id}-{holo_pdb_id}-{ligand}.pml', 'w') as pymol_script:\n",
    "\n",
    "        pymol_script.write(f'reinitialize\\n')\n",
    "\n",
    "        pymol_script.write(f'fetch {apo_pdb_id}{apo_chain}\\n')\n",
    "        pymol_script.write(f'color blue, {apo_pdb_id}{apo_chain}\\n')\n",
    "        pymol_script.write(f'color aquamarine, {apo_selection}\\n')\n",
    "        pymol_script.write(f'show sticks, {apo_selection}\\n')\n",
    "\n",
    "        pymol_script.write(f'fetch {holo_pdb_id}\\n')\n",
    "        pymol_script.write(f'color green, {holo_pdb_id}{holo_chain}\\n')\n",
    "        pymol_script.write(f'color yellow, {holo_selection}\\n')\n",
    "        pymol_script.write(f'show sticks, {holo_selection}\\n')\n",
    "\n",
    "        pymol_script.write(f'align {apo_pdb_id}{apo_chain}, {holo_pdb_id} and chain {holo_chain} \\n')\n",
    "        pymol_script.write(f'zoom {apo_pdb_id}{apo_chain}\\n')\n",
    "\n",
    "with open(f'{DATASET_PATH}/dataset.json', 'r') as f:\n",
    "    d = json.load(f)\n",
    "\n",
    "sugar_only_counter = 0\n",
    "for pdb_id, holo_structures in d.items():\n",
    "    sugar_only = True\n",
    "    for holo_structure in holo_structures:\n",
    "        if holo_structure['ligand'] not in ['NAG', 'MAN', 'GLC']:\n",
    "            sugar_only = False\n",
    "            break\n",
    "    \n",
    "    if sugar_only:\n",
    "        create_pymol_script(pdb_id, holo_structures[0])\n",
    "        sugar_only_counter += 1\n",
    "\n",
    "sugar_only_counter\n"
   ]
  },
  {
   "cell_type": "code",
   "execution_count": 16,
   "metadata": {},
   "outputs": [
    {
     "data": {
      "text/plain": [
       "1004"
      ]
     },
     "execution_count": 16,
     "metadata": {},
     "output_type": "execute_result"
    }
   ],
   "source": [
    "with open(f'{DATASET_PATH}/dataset.json', 'r') as f:\n",
    "    d = json.load(f)\n",
    "\n",
    "len(d)"
   ]
  },
  {
   "cell_type": "code",
   "execution_count": 17,
   "metadata": {},
   "outputs": [
    {
     "data": {
      "text/plain": [
       "982"
      ]
     },
     "execution_count": 17,
     "metadata": {},
     "output_type": "execute_result"
    }
   ],
   "source": [
    "with open('../../data/B-create-dataset/multi-chain--p2rank-ligands/dataset.json', 'r') as f:\n",
    "    d = json.load(f)\n",
    "\n",
    "len(d)"
   ]
  },
  {
   "cell_type": "code",
   "execution_count": null,
   "metadata": {},
   "outputs": [],
   "source": []
  }
 ],
 "metadata": {
  "kernelspec": {
   "display_name": "Python 3",
   "language": "python",
   "name": "python3"
  },
  "language_info": {
   "codemirror_mode": {
    "name": "ipython",
    "version": 3
   },
   "file_extension": ".py",
   "mimetype": "text/x-python",
   "name": "python",
   "nbconvert_exporter": "python",
   "pygments_lexer": "ipython3",
   "version": "3.11.6"
  }
 },
 "nbformat": 4,
 "nbformat_minor": 2
}
