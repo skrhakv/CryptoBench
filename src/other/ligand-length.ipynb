{
 "cells": [
  {
   "cell_type": "code",
   "execution_count": null,
   "metadata": {},
   "outputs": [],
   "source": [
    "import json\n",
    "from rdkit import Chem\n",
    "import pandas as pd\n",
    "\n",
    "DATA_PATH = '../../data/B-create-dataset/multi-chain-all-biolip-ligands'\n",
    "DATASET_PATH = f'{DATA_PATH}/dataset.json'\n",
    "BIOLIP_LIGANDS_PATH = f'{DATA_PATH}/ligand.tsv'\n",
    "\n",
    "def get_ligand_atom_count(smiles):\n",
    "    # hint: https://chemistry.stackexchange.com/questions/43363/how-to-calculate-hydrogen-from-smiles-string\n",
    "\n",
    "    for i in str(smiles.values[0]).split(';'):\n",
    "        i = i.strip()\n",
    "        try:\n",
    "            molecule = Chem.MolFromSmiles(i)\n",
    "            atoms_count = molecule.GetNumHeavyAtoms()\n",
    "            return atoms_count, i\n",
    "        except:\n",
    "            continue\n",
    "    return -1, -1\n",
    "\n",
    "def get_ligand_lengths(dataset_path, ligands_path):\n",
    "    ligands_df = pd.read_csv(ligands_path, sep='\\t')\n",
    "    \n",
    "    with open(dataset_path, 'r') as f:\n",
    "        ds = json.load(f)\n",
    "\n",
    "    structures = []\n",
    "\n",
    "    for apo_key, holo_structures in ds.items():\n",
    "        for holo_structure in holo_structures:\n",
    "            structure = {}\n",
    "            structure['apo_structure'] = apo_key + holo_structure['apo_chain']\n",
    "            structure['holo_structure'] = holo_structure['holo_pdb_id'] + holo_structure['holo_chain']\n",
    "            ligand = holo_structure['ligand']\n",
    "            structure['ligand'] = ligand\n",
    "            atoms_count, smiles = get_ligand_atom_count(ligands_df[ligands_df['#CCD'] == ligand]['SMILES'])\n",
    "            if atoms_count == -1:\n",
    "                continue\n",
    "            structure['ligand_heavy_atom_count'], structure['ligand_smiles'] = atoms_count, smiles\n",
    "            structures.append(structure)\n",
    "    return pd.DataFrame(structures)\n",
    "\n",
    "ligand_lengths = get_ligand_lengths(DATASET_PATH, BIOLIP_LIGANDS_PATH)\n"
   ]
  },
  {
   "cell_type": "code",
   "execution_count": 2,
   "metadata": {},
   "outputs": [],
   "source": [
    "ligand_lengths = ligand_lengths.sort_values(by=['ligand_heavy_atom_count', 'ligand'], ascending=False)\n",
    "\n",
    "ligand_lengths.to_csv('./data/ligand_length.csv')"
   ]
  },
  {
   "cell_type": "code",
   "execution_count": 3,
   "metadata": {},
   "outputs": [
    {
     "data": {
      "text/plain": [
       "Text(0, 0.5, '# of ligands')"
      ]
     },
     "execution_count": 3,
     "metadata": {},
     "output_type": "execute_result"
    },
    {
     "data": {
      "image/png": "[encoded data removed]",
      "text/plain": [
       "<Figure size 640x480 with 1 Axes>"
      ]
     },
     "metadata": {},
     "output_type": "display_data"
    }
   ],
   "source": [
    "import matplotlib.pyplot as plt\n",
    "plt.hist(ligand_lengths['ligand_heavy_atom_count'], bins=40)  # density=False would make counts\n",
    "plt.xlabel('# of heavy atoms in the ligand')\n",
    "plt.ylabel('# of ligands')\n"
   ]
  },
  {
   "cell_type": "markdown",
   "metadata": {},
   "source": [
    "### drop duplicated ligands"
   ]
  },
  {
   "cell_type": "code",
   "execution_count": 14,
   "metadata": {},
   "outputs": [
    {
     "name": "stdout",
     "output_type": "stream",
     "text": [
      "1012\n",
      "7090\n",
      "954\n",
      "1257\n"
     ]
    }
   ],
   "source": [
    "print(len(ligand_lengths[ligand_lengths['ligand_heavy_atom_count'] <= 5]))\n",
    "print(len(ligand_lengths))\n",
    "\n",
    "print(len(ligand_lengths[ligand_lengths['ligand_heavy_atom_count'] > 5]['apo_structure'].unique()))\n",
    "print(len(ligand_lengths['apo_structure'].unique()))"
   ]
  },
  {
   "cell_type": "code",
   "execution_count": 5,
   "metadata": {},
   "outputs": [],
   "source": [
    "ligand_lengths.drop_duplicates('ligand', inplace = True)\n",
    "\n",
    "ligand_lengths.to_csv('./data/unique_ligand_length.csv')"
   ]
  }
 ],
 "metadata": {
  "kernelspec": {
   "display_name": "Python 3",
   "language": "python",
   "name": "python3"
  },
  "language_info": {
   "codemirror_mode": {
    "name": "ipython",
    "version": 3
   },
   "file_extension": ".py",
   "mimetype": "text/x-python",
   "name": "python",
   "nbconvert_exporter": "python",
   "pygments_lexer": "ipython3",
   "version": "3.9.18"
  }
 },
 "nbformat": 4,
 "nbformat_minor": 2
}
