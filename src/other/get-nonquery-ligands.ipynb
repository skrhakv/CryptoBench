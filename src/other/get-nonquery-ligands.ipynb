{
 "cells": [
  {
   "cell_type": "code",
   "execution_count": 14,
   "metadata": {},
   "outputs": [],
   "source": [
    "import json\n",
    "import os\n",
    "import pandas as pd\n",
    "\n",
    "INPUT_DATASET_PATH = '../../data/B-create-dataset/multi-chain-with-covalent-ligands'\n",
    "OUTPUT_FILE = 'nonquery-ligands.csv'\n",
    "\n",
    "os.remove(OUTPUT_FILE)\n",
    "\n",
    "with open(f'{INPUT_DATASET_PATH}/dataset.json') as f:\n",
    "    d = json.load(f)\n",
    "dataset_df = pd.read_csv(f'{INPUT_DATASET_PATH}/dataset_dataframe.csv')\n",
    "for apo_pdb_id, holo_structures in d.items():\n",
    "    subset_df = dataset_df[dataset_df['apo_structure'] == apo_pdb_id]\n",
    "    if len(subset_df[subset_df['holo_nonquery_ligs'].isna()]) == 0:\n",
    "        if os.path.exists(OUTPUT_FILE):\n",
    "            header = False\n",
    "        else:\n",
    "            header = ['apo_pdb_id', 'apo_chain', 'holo_pdb_id', 'holo_chain', 'query_POI', 'holo_nonquery_ligs']\n",
    "        subset_df[\n",
    "            subset_df['holo_nonquery_ligs'].notna()][['apo_structure', 'apo_chains3', 'holo_structure', 'holo_chains3',\n",
    "                                                      'holo_query_POI', 'holo_nonquery_ligs']].to_csv(OUTPUT_FILE, mode='a', header=header, index=False)"
   ]
  },
  {
   "cell_type": "code",
   "execution_count": 3,
   "metadata": {},
   "outputs": [],
   "source": [
    "import json\n",
    "import os\n",
    "import pandas as pd\n",
    "\n",
    "INPUT_DATASET_PATH = '../../data/B-create-dataset/multi-chain-with-covalent-ligands'\n",
    "OUTPUT_FILE = 'cryptobench_data.csv'\n",
    "\n",
    "os.remove(OUTPUT_FILE) if os.path.exists(OUTPUT_FILE) else None\n",
    "\n",
    "with open(f'{INPUT_DATASET_PATH}/dataset.json') as f:\n",
    "    d = json.load(f)\n",
    "dataset_df = pd.read_csv(f'{INPUT_DATASET_PATH}/dataset_dataframe.csv')\n",
    "for apo_pdb_id, holo_structures in d.items():\n",
    "    subset_df = dataset_df[dataset_df['apo_structure'] == apo_pdb_id]\n",
    "    if os.path.exists(OUTPUT_FILE):\n",
    "        header = False\n",
    "    else:\n",
    "        header = ['apo_pdb_id', 'apo_chain', 'holo_pdb_id', 'holo_chain', 'query_POI']\n",
    "    subset_df[\n",
    "        subset_df['holo_nonquery_ligs'].isna()][['apo_structure', 'apo_chains3', 'holo_structure', 'holo_chains3',\n",
    "                                                    'holo_query_POI']].to_csv(OUTPUT_FILE, mode='a', header=header, index=False)"
   ]
  }
 ],
 "metadata": {
  "kernelspec": {
   "display_name": "Python 3",
   "language": "python",
   "name": "python3"
  },
  "language_info": {
   "codemirror_mode": {
    "name": "ipython",
    "version": 3
   },
   "file_extension": ".py",
   "mimetype": "text/x-python",
   "name": "python",
   "nbconvert_exporter": "python",
   "pygments_lexer": "ipython3",
   "version": "3.11.6"
  }
 },
 "nbformat": 4,
 "nbformat_minor": 2
}
