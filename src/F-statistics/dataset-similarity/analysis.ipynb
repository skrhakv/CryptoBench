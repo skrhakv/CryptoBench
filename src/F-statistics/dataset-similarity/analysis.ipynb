{
 "cells": [
  {
   "cell_type": "code",
   "execution_count": 15,
   "metadata": {},
   "outputs": [],
   "source": [
    "import requests\n",
    "import csv\n",
    "\n",
    "pdb_to_uniprot = {}\n"
   ]
  },
  {
   "cell_type": "code",
   "execution_count": 20,
   "metadata": {},
   "outputs": [],
   "source": [
    "def get_entity_id(pdb_id, chain_id):\n",
    "    pdb_info = requests.get(f\"https://www.ebi.ac.uk/pdbe/api/pdb/entry/molecules/{pdb_id}\").json()\n",
    "    for entity in pdb_info[pdb_id]:\n",
    "        if chain_id in entity['in_chains']:\n",
    "            return entity['entity_id']\n",
    "    return None\n",
    "\n",
    "def get_sequence(pdb_id, entity_id):\n",
    "    print(entity_id)\n",
    "    sequence = requests.get(f\"https://www.ebi.ac.uk/pdbe/graph-api/pdbe_pages/uniprot_mapping/{pdb_id}/{entity_id}\").json()[pdb_id]['sequence']\n",
    "    return sequence\n"
   ]
  },
  {
   "cell_type": "code",
   "execution_count": 14,
   "metadata": {},
   "outputs": [
    {
     "data": {
      "text/plain": [
       "{'1RTC.A', '2CM2.A', '6LZG.A'}"
      ]
     },
     "execution_count": 14,
     "metadata": {},
     "output_type": "execute_result"
    }
   ],
   "source": [
    "pocketminer = ['1ADE.A', '1ALB.A', '1BSQ.A', '1EX6.A', '1EXM.A', '1MY0.B', '1NEP.A', '1NI6.D', '2BLS.B', '2QFO.B', '3F74.C', '4AKE.B', '1RHB.A', '1RTC.A', '2CM2.A', '1JWP.A', '1OFV.A', '1QYS.A', '5BVL.A', '4N49.A', '5YNF.A', '3R24.A', '6LZG.A', '1N26.A', '1ALU.A', '6W4H.B', '6NUR.A', '6JYT.A', '5C8S.A', '6VWW.A', '6W4H.A', '6W02.A', '6Y2E.A', '5F22.A', '2AHM.G', '2OFZ.A', '3FKE.A']\n",
    "cryptobench = ['7QOQ.A', '8I84.B', '7W19.A', '5UXA.A', '3H8A.B', '6ISU.A', '5YHB.A', '3RWV.A', '2I3A.D', '4OQO.B', '3GDG.B', '1KX9.A', '1KXR.A', '1UTE.A', '7F4Y.B', '7NLX.A', '7XGF.E', '7E5Q.B', '5E0V.A', '6JQ9.B', '7O1I.A', '3LY8.A', '1BZJ.A', '7C63.A', '7X0I.B', '5YSB.B', '3K01.A', '5KCG.B', '8B9P.A', '4UC8.A', '5B0E.B', '5YQP.A', '1ND7.A', '2VL2.C', '6BTY.B', '2FHZ.B', '5CAZ.A', '3N4U.A', '6FC2.C', '4HYE.A', '1I7N.A', '1VSN.A', '2D05.A', '1KSG.B', '3FLG.A', '4GPI.C', '4GV9.A', '4KMY.A', '4MWI.A', '1LBE.B', '1ZM0.A', '4TTP.A', '5I3T.E', '1ARL.A', '6CQE.B', '2AKA.A', '3UGK.A', '6EQJ.A', '1XTC.A', '8AEQ.A', '5TVI.V', '2V6M.D', '2RFJ.B', '7X0G.B', '6VLE.A', '6G6Y.A', '5WBM.B', '2I3R.A', '7KAY.A', '7YJC.A', '1DQ2.A', '5TC0.B', '1PU5.C', '4JFR.C', '9ATC.A', '3V55.A', '2ZJ7.A', '4QVK.B', '2QBV.A', '6A98.C', '2IYT.A', '3ST6.C', '1M5W.D', '1G59.A', '1P4V.A', '5EY7.B', '2PKF.A', '3IDH.A', '3W90.A', '2FEM.A', '2W8N.A', '6O4F.H', '6F52.A', '5HIJ.A', '6FGJ.B', '1XGD.A', '4IKV.A', '8J11.X', '8U3N.A', '2H7S.A', '4CMW.B', '7V8K.B', '4UUM.A', '1P4O.B', '4ILG.A', '8H27.A', '1CWQ.A', '5ZJ4.D', '2X47.A', '1RTC.A', '1P9O.A', '7F2M.B', '4R0X.A', '4NZV.B', '3FZO.A', '3NX1.B', '6TX0.B', '3VGM.A', '8VXU.B', '2PWZ.G', '5HTO.E', '5SC2.A', '1EVY.A', '8BRE.B', '4ZOE.B', '8AQI.B', '1XJF.A', '4RVT.B', '7DE1.A', '4AEM.A', '7X0F.A', '6N5J.B', '1Q4K.A', '1UKA.A', '1XQV.A', '8IAS.B', '6KSC.A', '4J4E.F', '4ZM7.A', '6DU4.A', '3F4K.A', '3A0X.A', '4AMV.B', '7NDL.B', '3TPO.A', '1BK2.A', '1RJB.A', '3PBF.A', '3WB9.C', '5LOC.A', '7NC8.D', '6HEI.A', '1E6K.A', '4P2F.A', '8ONN.E', '6W10.A', '3I8S.B', '5Z18.C', '4E1Y.A', '6NEI.B', '2XSA.A', '5O8B.A', '3JZG.A']\n",
    "\n",
    "import csv\n",
    "\n",
    "marked_pocketminer_pdb_ids = set()\n",
    "with open('clusterRes_cluster.tsv') as f:\n",
    "    is_current_group_in_cryptobench = ('UNK', False)\n",
    "    reader = csv.reader(f, delimiter='\\t')\n",
    "    for row in reader:\n",
    "        id1 = row[0].split('|')[0]\n",
    "        id2 = row[1].split('|')[0]\n",
    "        #print(f'processing {id1} and {id2} ...')\n",
    "        if id1 != is_current_group_in_cryptobench[0]:\n",
    "            # print(f'{id1} doesnt equal is_current_group_in_cryptobench[0] ...')\n",
    "            is_current_group_in_cryptobench = (id1, False)\n",
    "            #print(f'updated is_current_group_in_cryptobench[0]: {is_current_group_in_cryptobench} ...')\n",
    "\n",
    "        if id1 in cryptobench or id2 in cryptobench:\n",
    "            # print(f'{id1 if id1 in cryptobench else id2} is in cryptobench')\n",
    "            is_current_group_in_cryptobench = (id1, True)\n",
    "        #print(f'current group in cryptobench: {is_current_group_in_cryptobench}')\n",
    "        if id1 in pocketminer and is_current_group_in_cryptobench[1]:\n",
    "            #print(f'add id1 {id1} to marked')\n",
    "            marked_pocketminer_pdb_ids.add(id1)\n",
    "        if id2 in pocketminer and is_current_group_in_cryptobench[1]:\n",
    "            # print(f'add id2 {id2} to marked')\n",
    "            marked_pocketminer_pdb_ids.add(id2)\n",
    "\n",
    "marked_pocketminer_pdb_ids"
   ]
  },
  {
   "cell_type": "markdown",
   "metadata": {},
   "source": [
    "1RTC.A in both CryptoBench and PocketMiner. 2CM2.A (with 97.7% identity with '1BZJ.A'), 6LZG.A (with 97.9% identity with '8B9P.A')  in PocketMiner."
   ]
  }
 ],
 "metadata": {
  "kernelspec": {
   "display_name": "Python 3",
   "language": "python",
   "name": "python3"
  },
  "language_info": {
   "codemirror_mode": {
    "name": "ipython",
    "version": 3
   },
   "file_extension": ".py",
   "mimetype": "text/x-python",
   "name": "python",
   "nbconvert_exporter": "python",
   "pygments_lexer": "ipython3",
   "version": "3.11.6"
  }
 },
 "nbformat": 4,
 "nbformat_minor": 2
}
