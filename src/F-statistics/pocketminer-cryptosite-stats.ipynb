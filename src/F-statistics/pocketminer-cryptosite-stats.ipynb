{
 "cells": [
  {
   "cell_type": "code",
   "execution_count": 1,
   "metadata": {},
   "outputs": [
    {
     "name": "stdout",
     "output_type": "stream",
     "text": [
      "97\n"
     ]
    },
    {
     "data": {
      "text/plain": [
       "38"
      ]
     },
     "execution_count": 1,
     "metadata": {},
     "output_type": "execute_result"
    }
   ],
   "source": [
    "import json, csv \n",
    "import statistics\n",
    "CRYPTOBENCH_PATH = '/home/vit/Projects/cryptobench/data/I-final/cryptobench/cryptobench-dataset/dataset.json'\n",
    "POCKETMINER_PATH = '/home/vit/Projects/ahoj2-extraction/data/analysis/pocketminer-testset-analysis/pm-dataset/pymol_scripts/out/tmp.csv'\n",
    "\n",
    "# computed using /home/vit/Projects/cryptobench/src/other/jupyter-pymol-scripts/cryptosite-pRMSD.ipynb\n",
    "cryptosite_pRMSD = [1.47340989112854, 1.489823341369629, 1.6925339698791504, 1.4665788412094116, 1.8879574537277222, 2.5282928943634033, 1.1812176704406738, 1.620038390159607, 1.3965951204299927, 0.9761843681335449, 2.4420173168182373, 2.321242094039917, 2.7480576038360596, 1.2371703386306763, 2.5933308601379395, 2.2822718620300293, 0.6873576045036316, 1.7272449731826782, 1.0332165956497192, 0.8760473728179932, 1.140579104423523, 3.9709181785583496, 0.8974137306213379, 0.8099040389060974, 1.2268364429473877, 3.401338577270508, 3.6201603412628174, 2.215472936630249, 9.773069381713867, 1.4329919815063477, 2.3485264778137207, 1.0802042484283447, 3.4320919513702393, 3.6641178131103516, 2.78421950340271, 5.836435794830322, 3.9668214321136475, 1.0696790218353271, 1.3258963823318481, 4.086982727050781, 1.3445414304733276, 1.9035978317260742, 3.8101189136505127, 0.9481531977653503, 1.5401052236557007, 4.587381362915039, 3.2469143867492676, 1.3302533626556396, 5.351579666137695, 9.31275749206543, 4.148897171020508, 2.5255825519561768, 7.542415142059326, 2.757195472717285, 1.705336332321167, 0.8556207418441772, 1.073578953742981, 1.4810245037078857, 4.562525749206543, 6.01030158996582, 2.386737108230591, 0.6501610279083252, 1.2606186866760254, 3.4823412895202637, 1.690223217010498, 4.533503532409668, 2.9997243881225586, 2.4228312969207764, 2.3904919624328613, 2.1988227367401123, 1.3498516082763672, 1.0055838823318481, 2.5459513664245605, 3.346334457397461, 1.0706795454025269, 4.732640266418457, 2.4546966552734375, 0.7447604537010193, 0.42909306287765503, 2.2733850479125977, 1.338491678237915, 17.4810733795166, 8.219695091247559, 1.2882083654403687, 1.855212926864624, 0.4422960877418518, 1.1193686723709106, 1.1240462064743042, 1.3140453100204468, 1.7504931688308716, 3.0433263778686523, 3.8423008918762207, 2.024810314178467, 1.4292807579040527, 2.66196608543396, 2.1199474334716797, 4.654663562774658]\n",
    "print(len(cryptosite_pRMSD))\n",
    "# computed using /home/vit/Projects/ahoj2-extraction/data/analysis/pocketminer-testset-analysis/pm-dataset/pymol_scripts/pocketminer-rmsd.ipynb\n",
    "pocketminer_pRMSD = [1.9325615167617798, 1.3666965961456299, 2.007234811782837, 4.869300842285156, 3.726276397705078, 2.60483717918396, 4.377221584320068, 4.864056587219238, 11.685467720031738, 3.38498854637146, 2.253884792327881, 1.5966910123825073, 2.0441970825195312, 1.6903163194656372, 5.294036388397217, 3.9913699626922607, 2.7528436183929443, 2.617084264755249, 3.195599317550659, 8.758405685424805, 2.7374491691589355, 3.3774197101593018, 3.7631378173828125, 3.4539225101470947, 3.766010046005249, 3.1725552082061768, 2.6888957023620605, 4.576301574707031, 2.2638092041015625, 5.850988388061523, 3.3700854778289795, 2.5096399784088135, 2.2943079471588135, 3.1521079540252686, 2.2119879722595215, 1.4853734970092773, 4.1293044090271, 1.8185052871704102]\n",
    "len(pocketminer_pRMSD)"
   ]
  },
  {
   "cell_type": "markdown",
   "metadata": {},
   "source": [
    "# AVG pRMSD"
   ]
  },
  {
   "cell_type": "code",
   "execution_count": 2,
   "metadata": {},
   "outputs": [
    {
     "name": "stdout",
     "output_type": "stream",
     "text": [
      "CRYPTOBENCH: 2.615 +- 0.8741628934032585\n",
      "POCKETMINER: 3.1623315811157227 +- 1.9857734823677633\n",
      "CRYPTOSITE: 2.024810314178467 +- 2.3637513087325233\n"
     ]
    }
   ],
   "source": [
    "# load cryptobench pRMSDs\n",
    "\n",
    "with open(CRYPTOBENCH_PATH) as f:\n",
    "    cryptobench = json.load(f)\n",
    "\n",
    "cryptobench_pRMSD = []\n",
    "for apo_pdb_id, holo_structures in cryptobench.items():\n",
    "    holo_pRMSDs = []\n",
    "    for holo_structure in holo_structures:\n",
    "        pRMSD = holo_structure['pRMSD']\n",
    "        assert pRMSD > 2\n",
    "        holo_pRMSDs.append(pRMSD)\n",
    "\n",
    "    cryptobench_pRMSD.append(statistics.mean(holo_pRMSDs))\n",
    "\n",
    "print(F'CRYPTOBENCH: {statistics.mean(cryptobench_pRMSD)} +- {statistics.stdev(cryptobench_pRMSD)}')\n",
    "print(F'POCKETMINER: {statistics.mean(pocketminer_pRMSD)} +- {statistics.stdev(pocketminer_pRMSD)}')\n",
    "print(F'CRYPTOSITE: {statistics.mean(cryptosite_pRMSD)} +- {statistics.stdev(cryptosite_pRMSD)}')\n"
   ]
  },
  {
   "cell_type": "markdown",
   "metadata": {},
   "source": [
    "# AVG no of binding residues\n",
    "\n",
    "These stats for cryptosite are in: `/home/vit/Projects/cryptobench/src/other/jupyter-pymol-scripts/cryptosite-pRMSD.ipynb`"
   ]
  },
  {
   "cell_type": "code",
   "execution_count": 43,
   "metadata": {},
   "outputs": [
    {
     "name": "stdout",
     "output_type": "stream",
     "text": [
      "POCKETMINER: 22.92105263157895 +- 8.168434892422761\n"
     ]
    }
   ],
   "source": [
    "\n",
    "binding_residues_count = []\n",
    "with open(POCKETMINER_PATH) as f:\n",
    "    csv_file = csv.reader(f, delimiter=';')\n",
    "    for row in csv_file:\n",
    "        pocket_selection = row[1]\n",
    "        pocket_len = len(pocket_selection.split('+'))\n",
    "        binding_residues_count.append(pocket_len)\n",
    "\n",
    "print(F'POCKETMINER: {statistics.mean(binding_residues_count)} +- {statistics.stdev(binding_residues_count)}')\n",
    "\n"
   ]
  },
  {
   "cell_type": "markdown",
   "metadata": {},
   "source": [
    "# AVG no of observed residues"
   ]
  },
  {
   "cell_type": "code",
   "execution_count": 44,
   "metadata": {},
   "outputs": [
    {
     "name": "stdout",
     "output_type": "stream",
     "text": [
      "POCKETMINER: 288.36842105263156 +- 140.63051474882906\n"
     ]
    }
   ],
   "source": [
    "import os\n",
    "import re\n",
    "from Bio.PDB import PDBParser\n",
    "\n",
    "PDB_POCKETMINER_PATH = f'/home/vit/Projects/ahoj2-extraction/data/analysis/pocketminer-testset-analysis/pm-dataset/all-structures'\n",
    "files = os.listdir(PDB_POCKETMINER_PATH)\n",
    "\n",
    "observed_residues_count = []\n",
    "\n",
    "with open(POCKETMINER_PATH) as f:\n",
    "    csv_file = csv.reader(f, delimiter=';')\n",
    "    for row in csv_file:\n",
    "        pdb_id = row[0]\n",
    "\n",
    "        apo_filename = [filename for filename in files if (re.search(pdb_id.lower(), filename) or re.search(\n",
    "            pdb_id.upper(), filename)) and re.search('_clean_h.pdb', filename)][0]\n",
    "        \n",
    "        chain_id = apo_filename.split('_')[0][4:]\n",
    "\n",
    "        parser = PDBParser(QUIET=True)\n",
    "\n",
    "        structure = parser.get_structure(pdb_id, f'{PDB_POCKETMINER_PATH}/{apo_filename}')\n",
    "        assert len(structure) == 1\n",
    "        structure = structure[0]\n",
    "        assert len(list(structure.get_chains())) == 1\n",
    "\n",
    "        chain = next(structure.get_chains())\n",
    "        residues_count = len(list([residue for residue in chain if residue.get_id()[0] == \" \"]))\n",
    "        observed_residues_count.append(residues_count)\n",
    "\n",
    "\n",
    "print(F'POCKETMINER: {statistics.mean(observed_residues_count)} +- {statistics.stdev(observed_residues_count)}')\n"
   ]
  }
 ],
 "metadata": {
  "kernelspec": {
   "display_name": "Python 3",
   "language": "python",
   "name": "python3"
  },
  "language_info": {
   "codemirror_mode": {
    "name": "ipython",
    "version": 3
   },
   "file_extension": ".py",
   "mimetype": "text/x-python",
   "name": "python",
   "nbconvert_exporter": "python",
   "pygments_lexer": "ipython3",
   "version": "3.11.6"
  }
 },
 "nbformat": 4,
 "nbformat_minor": 2
}
