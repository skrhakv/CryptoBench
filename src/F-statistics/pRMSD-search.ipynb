{
 "cells": [
  {
   "cell_type": "code",
   "execution_count": 10,
   "metadata": {},
   "outputs": [
    {
     "data": {
      "text/plain": [
       "('2air',\n",
       " {'uniprot_id': 'P0A7F3',\n",
       "  'holo_pdb_id': '1za1',\n",
       "  'holo_chain': 'D',\n",
       "  'apo_chain': 'H',\n",
       "  'ligand': 'CTP',\n",
       "  'ligand_index': '902',\n",
       "  'ligand_chain': 'D',\n",
       "  'apo_pocket_selection': ['H_2',\n",
       "   'H_3',\n",
       "   'H_11',\n",
       "   'H_12',\n",
       "   'H_17',\n",
       "   'H_19',\n",
       "   'H_20',\n",
       "   'H_58',\n",
       "   'H_60',\n",
       "   'H_82',\n",
       "   'H_84',\n",
       "   'H_86',\n",
       "   'H_89',\n",
       "   'H_91',\n",
       "   'H_94',\n",
       "   'H_96'],\n",
       "  'holo_pocket_selection': ['D_2',\n",
       "   'D_3',\n",
       "   'D_11',\n",
       "   'D_12',\n",
       "   'D_17',\n",
       "   'D_19',\n",
       "   'D_20',\n",
       "   'D_58',\n",
       "   'D_60',\n",
       "   'D_82',\n",
       "   'D_84',\n",
       "   'D_86',\n",
       "   'D_89',\n",
       "   'D_91',\n",
       "   'D_94',\n",
       "   'D_96'],\n",
       "  'apo_pymol_selection': '2air and ( (chain H and resi 2+3+11+12+17+19+20+58+60+82+84+86+89+91+94+96) )',\n",
       "  'holo_pymol_selection': '1za1 and ( (chain D and resi 2+3+11+12+17+19+20+58+60+82+84+86+89+91+94+96) )',\n",
       "  'pRMSD': 8.51,\n",
       "  'is_main_holo_structure': True})"
      ]
     },
     "execution_count": 10,
     "metadata": {},
     "output_type": "execute_result"
    }
   ],
   "source": [
    "import json\n",
    "\n",
    "with open(\"../../tutorial/cryptobench/cryptobench-dataset/dataset.json\") as f:\n",
    "    dataset = json.load(f)\n",
    "\n",
    "structure_with_max_pRMSD, max_pRMSD = None, 0\n",
    "for apo_id, holo_structures in dataset.items():\n",
    "    for holo_structure in holo_structures:\n",
    "        if holo_structure[\"pRMSD\"] > max_pRMSD and '-' not in holo_structure[\"holo_chain\"]:\n",
    "            max_pRMSD = holo_structure[\"pRMSD\"]\n",
    "            structure_with_max_pRMSD = (apo_id, holo_structure)\n",
    "structure_with_max_pRMSD"
   ]
  }
 ],
 "metadata": {
  "kernelspec": {
   "display_name": "usr",
   "language": "python",
   "name": "python3"
  },
  "language_info": {
   "codemirror_mode": {
    "name": "ipython",
    "version": 3
   },
   "file_extension": ".py",
   "mimetype": "text/x-python",
   "name": "python",
   "nbconvert_exporter": "python",
   "pygments_lexer": "ipython3",
   "version": "3.11.6"
  }
 },
 "nbformat": 4,
 "nbformat_minor": 2
}
