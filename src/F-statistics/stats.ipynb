{
 "cells": [
  {
   "cell_type": "markdown",
   "metadata": {},
   "source": [
    "# what stats need to be done\n",
    "## Table 2\n",
    "- apo-holo pairs \n",
    "- cryptic pockets\n",
    "- promiscuous pockets \n",
    "- multi-chain pockets\n",
    "- avg. pocket size \n",
    "- avg. # of observed residues"
   ]
  },
  {
   "cell_type": "code",
   "execution_count": 3,
   "metadata": {},
   "outputs": [],
   "source": [
    "import json\n",
    "import statistics\n",
    "import os \n",
    "import sys \n",
    "sys.path.append('../B-create-dataset')\n",
    "import filter_utils\n",
    "import pandas as pd"
   ]
  },
  {
   "cell_type": "code",
   "execution_count": 14,
   "metadata": {},
   "outputs": [],
   "source": [
    "INPUT_PATH = '../../data/E-add-noncryptic-pockets/ahoj-v2'\n",
    "\n",
    "with open(f'{INPUT_PATH}/cryptobench/dataset.json') as f:\n",
    "    dataset = json.load(f)\n"
   ]
  },
  {
   "cell_type": "markdown",
   "metadata": {},
   "source": [
    "### (apo-holo pairs) rename to something else, i.e. `APO STRUCTURES` or something alike!!!:"
   ]
  },
  {
   "cell_type": "code",
   "execution_count": 5,
   "metadata": {},
   "outputs": [
    {
     "data": {
      "text/plain": [
       "1107"
      ]
     },
     "execution_count": 5,
     "metadata": {},
     "output_type": "execute_result"
    }
   ],
   "source": [
    "len(dataset.keys())"
   ]
  },
  {
   "cell_type": "markdown",
   "metadata": {},
   "source": [
    "### No. of cryptic pockets:\n",
    "QUESTION: How to set `MAX_POCKET_SIMILARITY`? Isn't 75% too much?"
   ]
  },
  {
   "cell_type": "code",
   "execution_count": 19,
   "metadata": {},
   "outputs": [
    {
     "name": "stdout",
     "output_type": "stream",
     "text": [
      "number of cryptic pockets: 1361\n",
      "(number of all (even duplicated) pockets: 5493)\n"
     ]
    }
   ],
   "source": [
    "MAX_POCKET_SIMILARITY = 0.75\n",
    "\n",
    "# dictionary of new pockets\n",
    "merged_pockets = {}\n",
    "\n",
    "for id, pckts in dataset.items():\n",
    "    list_of_pocket_definitions = []\n",
    "    old_pocket_list: [[str]] = []\n",
    "    for pckt in pckts:\n",
    "        pckt_def: [str] = pckt['apo_pocket_selection']\n",
    "        old_pocket_list.append(pckt_def)\n",
    "    new_pocket_list = []\n",
    "    j = 0\n",
    "    while len(old_pocket_list) != len(new_pocket_list):\n",
    "        if j != 0:\n",
    "            old_pocket_list = new_pocket_list\n",
    "        new_pocket_list = []\n",
    "        merged_lists = []\n",
    "        for i in range(len(old_pocket_list)):\n",
    "            if i in merged_lists:\n",
    "                continue\n",
    "            for ii in range(i + 1, len(old_pocket_list)):\n",
    "                fst, snd = (old_pocket_list[i], old_pocket_list[ii]) if len(old_pocket_list[i]) < len(\n",
    "                    old_pocket_list[ii]) else (old_pocket_list[ii], old_pocket_list[i])\n",
    "                intersection = set(fst).intersection(snd)\n",
    "                intersect_len = len(intersection)\n",
    "\n",
    "                if intersect_len / len(fst) > MAX_POCKET_SIMILARITY or intersect_len / len(snd) > MAX_POCKET_SIMILARITY:\n",
    "                    merged_lists.append(ii)\n",
    "                    old_pocket_list[i] = list(set(fst + snd))\n",
    "            new_pocket_list.append(old_pocket_list[i])\n",
    "        j += 1\n",
    "    merged_pockets[id] = old_pocket_list\n",
    "\n",
    "pockets_count = 0\n",
    "for id, pckts in merged_pockets.items():\n",
    "    pockets_count += len(pckts)\n",
    "\n",
    "print(f'number of cryptic pockets: {pockets_count}')\n",
    "\n",
    "pockets_count = 0\n",
    "for id, pckts in dataset.items():\n",
    "    pockets_count += len(pckts)\n",
    "\n",
    "print(f'(number of all (even duplicated) pockets: {pockets_count})')\n"
   ]
  },
  {
   "cell_type": "markdown",
   "metadata": {},
   "source": [
    "### No. of promiscuous pockets:"
   ]
  },
  {
   "cell_type": "code",
   "execution_count": 20,
   "metadata": {},
   "outputs": [
    {
     "name": "stdout",
     "output_type": "stream",
     "text": [
      "number of flexible cryptic pockets: 371\n"
     ]
    }
   ],
   "source": [
    "promiscuous_pockets_count = 0\n",
    "for id, pckts in merged_pockets.items():\n",
    "    for pckt in pckts:\n",
    "        ligands = set()\n",
    "        for pckt_ in dataset[id]:\n",
    "            pckt_def: [str] = pckt_['apo_pocket_selection']\n",
    "\n",
    "            if len(set(pckt_def).intersection(pckt)) == len(pckt_def):\n",
    "                ligands.add(pckt_['ligand'])\n",
    "        if len(ligands) > 1:\n",
    "            promiscuous_pockets_count += 1\n",
    "\n",
    "print(f'number of flexible cryptic pockets: {promiscuous_pockets_count}')\n"
   ]
  },
  {
   "cell_type": "markdown",
   "metadata": {},
   "source": [
    "### No. of multichain pockets:"
   ]
  },
  {
   "cell_type": "code",
   "execution_count": 21,
   "metadata": {},
   "outputs": [
    {
     "name": "stdout",
     "output_type": "stream",
     "text": [
      "number of cryptic pockets over multiple chains: 197\n"
     ]
    }
   ],
   "source": [
    "multiple_chain_pockets = 0\n",
    "for id, pckts in merged_pockets.items():\n",
    "    for pckt in pckts:\n",
    "        number_of_chains = len(set([x.split('_')[0] for x in pckt]))\n",
    "        if number_of_chains > 1:\n",
    "            multiple_chain_pockets += 1\n",
    "print(f'number of cryptic pockets over multiple chains: {multiple_chain_pockets}')\n"
   ]
  },
  {
   "cell_type": "markdown",
   "metadata": {},
   "source": [
    "### avg. pocket size:"
   ]
  },
  {
   "cell_type": "code",
   "execution_count": 24,
   "metadata": {},
   "outputs": [
    {
     "name": "stdout",
     "output_type": "stream",
     "text": [
      "Average number of residues in pocket - mean: 16.608774804296377; variance: 7.216381192241173\n"
     ]
    }
   ],
   "source": [
    "lengths = []\n",
    "\n",
    "for key, value in dataset.items():\n",
    "    for pocket in value:\n",
    "        lengths.append(len(pocket['apo_pocket_selection']))\n",
    "\n",
    "print(f\"Average number of residues in pocket - mean: {statistics.mean(lengths)}; variance: {statistics.stdev(lengths)}\")\n"
   ]
  },
  {
   "cell_type": "markdown",
   "metadata": {},
   "source": [
    "### avg. No. of observed residues"
   ]
  },
  {
   "cell_type": "code",
   "execution_count": null,
   "metadata": {},
   "outputs": [],
   "source": [
    "# TODO: wait for computing the sequences for the embedder \n",
    "# TODO: this code expects a folder where each file is one protein and the files contains just one row containing the sequence\n",
    "\n",
    "if False: \n",
    "    SEQUENCES_PATH = 'apo-sequences'\n",
    "\n",
    "    lens = []\n",
    "\n",
    "    for file in os.listdir(SEQUENCES_PATH):\n",
    "        with open(f'{SEQUENCES_PATH}/{file}', 'r') as f:\n",
    "            a = f.readline() \n",
    "            lens.append(len(a))\n",
    "\n",
    "    print(statistics.mean(lens))\n",
    "    print(statistics.stdev(lens))\n"
   ]
  },
  {
   "cell_type": "markdown",
   "metadata": {},
   "source": [
    "## Table 3"
   ]
  },
  {
   "cell_type": "code",
   "execution_count": 30,
   "metadata": {},
   "outputs": [
    {
     "name": "stdout",
     "output_type": "stream",
     "text": [
      "test.json 222\n",
      "train-fold-0.json 219\n",
      "train-fold-1.json 222\n",
      "train-fold-2.json 222\n",
      "train-fold-3.json 222\n",
      "total:  1107\n"
     ]
    }
   ],
   "source": [
    "FOLD_PATH = f'{INPUT_PATH}/cryptobench/folds'\n",
    "\n",
    "filenames = [f'{FOLD_PATH}/test.json',\n",
    "             f'{FOLD_PATH}/train-fold-0.json',\n",
    "             f'{FOLD_PATH}/train-fold-1.json',\n",
    "             f'{FOLD_PATH}/train-fold-2.json',\n",
    "             f'{FOLD_PATH}/train-fold-3.json']\n",
    "import json\n",
    "\n",
    "total_len = 0\n",
    "for data_filepath in filenames:\n",
    "    with open(data_filepath) as f:\n",
    "        dataset = json.load(f)\n",
    "    print(data_filepath.split('/')[-1], len(dataset))\n",
    "    total_len += len(dataset)\n",
    "\n",
    "print('total: ', total_len)\n"
   ]
  },
  {
   "cell_type": "markdown",
   "metadata": {},
   "source": [
    "# TODO\n",
    "1. recalculate the violin graphs from Fig. 1\n",
    "2. Calculate the steps in Table 1.\n",
    "3. remove homomers from noncryptic pockets\n",
    "4. Think about some statistics for noncryptic pockets"
   ]
  },
  {
   "cell_type": "markdown",
   "metadata": {},
   "source": [
    "### TABLE 1."
   ]
  },
  {
   "cell_type": "code",
   "execution_count": 10,
   "metadata": {},
   "outputs": [],
   "source": [
    "INPUT_PATH = '../../data/A-filter-ahojdb-v2'\n",
    "INPUT_CSV = f'{INPUT_PATH}/pairs.csv'\n",
    "\n",
    "fields = ['apo_tm_score', 'apo_tm_score_i', 'apo_pocket_dist', 'apo_RoG', 'holo_RoG', 'apo_UNPovrlp_obs', 'apo_pocket_rms']\n",
    "ahoj2_df = pd.read_csv(INPUT_CSV, usecols=fields)"
   ]
  },
  {
   "cell_type": "code",
   "execution_count": 11,
   "metadata": {},
   "outputs": [
    {
     "name": "stdout",
     "output_type": "stream",
     "text": [
      "resolution filter: 4683968\n"
     ]
    }
   ],
   "source": [
    "# resolution filter:\n",
    "print(f'resolution filter: {len(ahoj2_df)}')"
   ]
  },
  {
   "cell_type": "code",
   "execution_count": 31,
   "metadata": {},
   "outputs": [
    {
     "name": "stdout",
     "output_type": "stream",
     "text": [
      "resolution filter: 4423220\n"
     ]
    }
   ],
   "source": [
    "# TODO: redefine the alignment filter according to the criteria in the filter_utils.get_well_defined_pairs(...):\n",
    "print(f'resolution filter: {len(filter_utils.get_well_defined_pairs(ahoj2_df))}')"
   ]
  },
  {
   "cell_type": "code",
   "execution_count": 32,
   "metadata": {},
   "outputs": [
    {
     "name": "stdout",
     "output_type": "stream",
     "text": [
      "pocket RMSD filter: 221026\n"
     ]
    }
   ],
   "source": [
    "# pocket RMSD filter:\n",
    "ahoj2_df = filter_utils.get_well_defined_pairs(ahoj2_df)\n",
    "filtered_rmsd_df = ahoj2_df[(\n",
    "            ahoj2_df['apo_pocket_rms'] > filter_utils.MAX_POCKET_RMSD)]\n",
    "print(f'pocket RMSD filter: {len(filtered_rmsd_df)}')"
   ]
  },
  {
   "cell_type": "code",
   "execution_count": 15,
   "metadata": {},
   "outputs": [
    {
     "name": "stdout",
     "output_type": "stream",
     "text": [
      "clustering & selection of representatives: 1107\n"
     ]
    }
   ],
   "source": [
    "# clustering & selection of representatives\n",
    "\n",
    "print(f'clustering & selection of representatives: {len(dataset)}')"
   ]
  },
  {
   "cell_type": "code",
   "execution_count": 16,
   "metadata": {},
   "outputs": [
    {
     "name": "stdout",
     "output_type": "stream",
     "text": [
      "additional pockets search: 5493\n"
     ]
    }
   ],
   "source": [
    "# additional pockets search\n",
    "\n",
    "additional_cryptic_pockets = 0\n",
    "for _, holo_structures in dataset.items():\n",
    "    additional_cryptic_pockets += len(holo_structures)\n",
    "\n",
    "print(f'additional pockets search: {additional_cryptic_pockets}')"
   ]
  },
  {
   "cell_type": "code",
   "execution_count": 27,
   "metadata": {},
   "outputs": [
    {
     "name": "stdout",
     "output_type": "stream",
     "text": [
      "additional noncryptic pockets search: 14493\n"
     ]
    }
   ],
   "source": [
    "# with open(f'/home/vit/Downloads/cryptobench (2)/auxiliary-data/non-cryptic-pockets/noncryptic-pockets.json') as f:\n",
    "\n",
    "with open(f'/home/vit/Projects/cryptobench/data/E-add-noncryptic-pockets/ahoj-v2/cryptobench/auxiliary-data/non-cryptic-pockets/noncryptic-pockets.json') as f:\n",
    "    non_cryptic_dataset = json.load(f)\n",
    "\n",
    "noncryptic_pockets = 0\n",
    "for _, holo_structures in non_cryptic_dataset.items():\n",
    "    noncryptic_pockets += len(holo_structures)\n",
    "\n",
    "print(f'additional noncryptic pockets search: {noncryptic_pockets}')"
   ]
  }
 ],
 "metadata": {
  "kernelspec": {
   "display_name": "Python 3",
   "language": "python",
   "name": "python3"
  },
  "language_info": {
   "codemirror_mode": {
    "name": "ipython",
    "version": 3
   },
   "file_extension": ".py",
   "mimetype": "text/x-python",
   "name": "python",
   "nbconvert_exporter": "python",
   "pygments_lexer": "ipython3",
   "version": "3.11.6"
  }
 },
 "nbformat": 4,
 "nbformat_minor": 2
}
