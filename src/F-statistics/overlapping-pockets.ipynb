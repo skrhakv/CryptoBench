{
 "cells": [
  {
   "cell_type": "code",
   "execution_count": null,
   "metadata": {},
   "outputs": [],
   "source": [
    "# Taken from: https://github.com/skrhakv/CryptoBench/blob/master/tutorial/tutorial.ipynb\n",
    "import json\n",
    "from typing import TypeAlias, List\n",
    "BindingSite: TypeAlias = List[str]\n",
    "JSON: TypeAlias = dict[str, \"JSON\"] | list[\"JSON\"] | str | int | float | bool | None\n",
    "\n",
    "def load_dataset(path: str) -> JSON:\n",
    "    \"\"\"Loads dataset from JSON file.\n",
    "\n",
    "    Args:\n",
    "        path (str): Path to JSON file\n",
    "\n",
    "    Returns:\n",
    "        JSON: dataset\n",
    "    \"\"\"\n",
    "    with open(path) as f:\n",
    "        dataset = json.load(f)\n",
    "    return dataset\n",
    "\n",
    "\n",
    "def are_binding_sites_promiscuous(binding_site1: BindingSite, binding_site2: BindingSite, lower_threshold=0.25, upper_threshold=0.5) -> bool:\n",
    "    overlap_length = len(list(set(binding_site1) & set(binding_site2)))\n",
    "    if overlap_length / len(binding_site1) < upper_threshold and overlap_length / len(binding_site2) < upper_threshold and \\\n",
    "        overlap_length / len(binding_site1) > lower_threshold and overlap_length / len(binding_site2) > lower_threshold:\n",
    "        return True\n",
    "    return False\n",
    "\n"
   ]
  },
  {
   "cell_type": "code",
   "execution_count": null,
   "metadata": {},
   "outputs": [],
   "source": [
    "CRYPTOBENCH_PATH = '../../tutorial/cryptobench'\n",
    "dataset = load_dataset(f'{CRYPTOBENCH_PATH}/cryptobench-dataset/dataset.json')\n",
    "\n",
    "for apo_pdb_id, holo_structures in dataset.items():\n",
    "    for i, holo_structure1 in enumerate(holo_structures):\n",
    "        for ii, holo_structure2 in enumerate(holo_structures):\n",
    "            if i <= ii:\n",
    "                continue\n",
    "            if are_binding_sites_promiscuous(holo_structure1['apo_pocket_selection'], holo_structure2['apo_pocket_selection']) and holo_structure1['ligand'] != holo_structure2['ligand']:\n",
    "                with open(f'overlapping-pockets/{holo_structure1[\"holo_pdb_id\"]}{holo_structure1[\"holo_chain\"]}-{holo_structure2[\"holo_pdb_id\"]}{holo_structure2[\"holo_chain\"]}.pml', 'w') as f:\n",
    "                    f.write(f'''reinitialize\n",
    "fetch {holo_structure1[\"holo_pdb_id\"]}{holo_structure1[\"holo_chain\"]}\n",
    "fetch {holo_structure2[\"holo_pdb_id\"]}{holo_structure2[\"holo_chain\"]}\n",
    "color blue, {holo_structure1[\"holo_pdb_id\"]}{holo_structure1[\"holo_chain\"]}\n",
    "color aquamarine, {holo_structure1[\"holo_pdb_id\"]}{holo_structure1[\"holo_chain\"]} and ( (chain {holo_structure1[\"holo_chain\"]} and resi {\"+\".join([i.split(\"_\")[1] for i in holo_structure1[\"holo_pocket_selection\"]])}) )\n",
    "color forest, {holo_structure2[\"holo_pdb_id\"]}{holo_structure2[\"holo_chain\"]}\n",
    "color yellow, {holo_structure2[\"holo_pdb_id\"]}{holo_structure2[\"holo_chain\"]} and ( (chain {holo_structure2[\"holo_chain\"]} and resi {\"+\".join([i.split(\"_\")[1] for i in holo_structure2[\"holo_pocket_selection\"]])}) )\n",
    "show sticks, {holo_structure1[\"holo_pdb_id\"]}{holo_structure1[\"holo_chain\"]} and ( (chain {holo_structure1[\"holo_chain\"]} and resi {\"+\".join([i.split(\"_\")[1] for i in holo_structure1[\"holo_pocket_selection\"]])}) )\n",
    "show sticks, {holo_structure2[\"holo_pdb_id\"]}{holo_structure2[\"holo_chain\"]} and ( (chain {holo_structure2[\"holo_chain\"]} and resi {\"+\".join([i.split(\"_\")[1] for i in holo_structure2[\"holo_pocket_selection\"]])}) )\n",
    "align {holo_structure1[\"holo_pdb_id\"]}{holo_structure1[\"holo_chain\"]}, {holo_structure2[\"holo_pdb_id\"]}{holo_structure2[\"holo_chain\"]}\n",
    "zoom {holo_structure1[\"holo_pdb_id\"]}{holo_structure1[\"holo_chain\"]}''')\n",
    "                print(f'Promiscuous binding site found in {apo_pdb_id} between {holo_structure1[\"holo_pdb_id\"]}{holo_structure1[\"holo_chain\"]} and {holo_structure2[\"holo_pdb_id\"]}{holo_structure2[\"holo_chain\"]}')\n",
    "                print(f'Binding site 1: {holo_structure1[\"holo_pocket_selection\"]}')\n",
    "                print(f'Binding site 2: {holo_structure2[\"holo_pocket_selection\"]}\\n')\n",
    "                break"
   ]
  }
 ],
 "metadata": {
  "kernelspec": {
   "display_name": "usr",
   "language": "python",
   "name": "python3"
  },
  "language_info": {
   "codemirror_mode": {
    "name": "ipython",
    "version": 3
   },
   "file_extension": ".py",
   "mimetype": "text/x-python",
   "name": "python",
   "nbconvert_exporter": "python",
   "pygments_lexer": "ipython3",
   "version": "3.11.6"
  }
 },
 "nbformat": 4,
 "nbformat_minor": 2
}
