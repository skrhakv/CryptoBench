{
 "cells": [
  {
   "cell_type": "markdown",
   "metadata": {},
   "source": [
    "# Pocket Type Estimator\n",
    "Let's train estimator which will assess each binding residue embedding as part of cryptic or non-cryptic pocket.\n"
   ]
  },
  {
   "cell_type": "code",
   "execution_count": 152,
   "metadata": {},
   "outputs": [
    {
     "data": {
      "text/plain": [
       "'cuda'"
      ]
     },
     "execution_count": 152,
     "metadata": {},
     "output_type": "execute_result"
    }
   ],
   "source": [
    "import numpy as np\n",
    "import csv\n",
    "\n",
    "import torch\n",
    "from torch.utils.data import Dataset\n",
    "from torch.utils.data import DataLoader\n",
    "from torch import nn\n",
    "\n",
    "from sklearn.utils import class_weight\n",
    "from sklearn import metrics\n",
    "\n",
    "import matplotlib.pyplot as plt\n",
    "\n",
    "device = 'cuda' if torch.cuda.is_available() else 'cpu'\n",
    "device"
   ]
  },
  {
   "cell_type": "markdown",
   "metadata": {},
   "source": [
    "## Load the data\n",
    "Load the cryptic and non-cryptic binding residue's embeddings."
   ]
  },
  {
   "cell_type": "code",
   "execution_count": 153,
   "metadata": {},
   "outputs": [],
   "source": [
    "# TODO: update this\n",
    "class ResidueLevelDataset(Dataset):\n",
    "    def __init__(self, cryptic_embeddings, noncryptic_embeddings):\n",
    "        # annotations\n",
    "        annotations = np.concatenate((np.zeros(len(cryptic_embeddings)), np.ones(len(noncryptic_embeddings))))\n",
    "\n",
    "        # concatenate dataset\n",
    "        embeddings = np.concatenate((cryptic_embeddings, noncryptic_embeddings), axis=0)\n",
    "\n",
    "        self.Ys = torch.tensor(annotations, dtype=torch.int16)\n",
    "        self.Xs = torch.tensor(embeddings, dtype=torch.float32)\n",
    "\n",
    "\n",
    "    def __len__(self):\n",
    "        assert len(self.Xs) == len(self.Ys)\n",
    "        return len(self.Xs)\n",
    "\n",
    "    def __getitem__(self, idx):\n",
    "        x = self.Xs[idx]\n",
    "        y = self.Ys[idx]\n",
    "        return x, y\n"
   ]
  },
  {
   "cell_type": "code",
   "execution_count": 237,
   "metadata": {},
   "outputs": [],
   "source": [
    "def parse_annotations(annotation_paths):\n",
    "    annotations = {}\n",
    "    for annotation_path in annotation_paths:\n",
    "        with open(annotation_path) as f:\n",
    "            reader = csv.reader(f, delimiter=\";\")\n",
    "            for row in reader:\n",
    "                id = row[0].lower() + row[1]\n",
    "\n",
    "                if len(row[3]) == 0 or id == '7ndlB': continue\n",
    "\n",
    "                annotation = [int(residue.split('_')[1][1:]) for residue in row[3].split(' ')]\n",
    "                annotations[id] = annotation\n",
    "    return annotations\n",
    "\n",
    "def get_embeddings(embeddings_path, indices, aggregate_per_protein=False):\n",
    "    embeddings = None\n",
    "    for id in indices.keys():\n",
    "        if len(indices[id]) == 0: continue\n",
    "        filename = id + '.npy'\n",
    "        embedding = np.load(f'{embeddings_path}/{filename}')\n",
    "        embedding = np.take(embedding, indices[id], axis=0)\n",
    "\n",
    "        if aggregate_per_protein: embedding = np.mean(embedding, axis=0)\n",
    "\n",
    "        if embeddings is None: embeddings = embedding\n",
    "        else: \n",
    "            embeddings = np.vstack((embeddings,embedding))\n",
    "        \n",
    "    return embeddings\n",
    "    \n",
    "\n",
    "def process_dataset(cryptic_annotation_path, noncryptic_annotation_path, embeddings_path, remove_ambiguous=True, aggregate_per_protein=False):\n",
    "\n",
    "    cryptic_indices = parse_annotations(cryptic_annotation_path)\n",
    "    noncryptic_indices = parse_annotations(noncryptic_annotation_path)\n",
    "\n",
    "    # some residues can be annotated as both cryptic and non-cryptic\n",
    "    if remove_ambiguous:\n",
    "        for id in noncryptic_indices.keys():\n",
    "            exclusively_noncryptic_indices = list(set(noncryptic_indices[id]) - set(cryptic_indices[id]))\n",
    "        #    if len(exclusively_noncryptic_indices) / len(noncryptic_indices[id]) > 0.75: noncryptic_indices[id] = []\n",
    "        #    else: \n",
    "            noncryptic_indices[id] = exclusively_noncryptic_indices\n",
    "\n",
    "    cryptic_embeddings = get_embeddings(embeddings_path, cryptic_indices, aggregate_per_protein=aggregate_per_protein)\n",
    "    noncryptic_embeddings = get_embeddings(embeddings_path, noncryptic_indices, aggregate_per_protein=aggregate_per_protein)\n",
    "    \n",
    "    return cryptic_embeddings, noncryptic_embeddings"
   ]
  },
  {
   "cell_type": "code",
   "execution_count": 161,
   "metadata": {},
   "outputs": [],
   "source": [
    "TRAIN_NONCRYPTIC_ANNOTATION_PATH = [\n",
    "    '/home/skrhakv/apolo/data/annotations/cryptobench-v2/cryptobench-noncryptic-translated-annotations/train-fold-0.csv',\n",
    "    '/home/skrhakv/apolo/data/annotations/cryptobench-v2/cryptobench-noncryptic-translated-annotations/train-fold-1.csv',\n",
    "    '/home/skrhakv/apolo/data/annotations/cryptobench-v2/cryptobench-noncryptic-translated-annotations/train-fold-2.csv',\n",
    "]\n",
    "TRAIN_CRYPTIC_ANNOTATION_PATH = [\n",
    "    '/home/skrhakv/apolo/data/annotations/cryptobench-v2/cryptobench-translated-annotations/train-fold-0.csv',\n",
    "    '/home/skrhakv/apolo/data/annotations/cryptobench-v2/cryptobench-translated-annotations/train-fold-1.csv',\n",
    "    '/home/skrhakv/apolo/data/annotations/cryptobench-v2/cryptobench-translated-annotations/train-fold-2.csv',\n",
    "]\n",
    "TEST_NONCRYPTIC_ANNOTATION_PATH = [\n",
    "    '/home/skrhakv/apolo/data/annotations/cryptobench-v2/cryptobench-noncryptic-translated-annotations/train-fold-3.csv'\n",
    "]\n",
    "TEST_CRYPTIC_ANNOTATION_PATH = [\n",
    "    '/home/skrhakv/apolo/data/annotations/cryptobench-v2/cryptobench-translated-annotations/train-fold-3.csv'\n",
    "    ]\n",
    "\n",
    "EMBEDDING_PATH = '/home/skrhakv/apolo/data/embeddings/cryptobench-v2/cryptobench-ahojv2-cut'\n",
    "\n",
    "train_cryptic_embeddings, train_noncryptic_embeddings = process_dataset(TRAIN_CRYPTIC_ANNOTATION_PATH, TRAIN_NONCRYPTIC_ANNOTATION_PATH, EMBEDDING_PATH)\n",
    "train_dataset = ResidueLevelDataset(train_cryptic_embeddings, train_noncryptic_embeddings)\n",
    "\n",
    "test_cryptic_embeddings, test_noncryptic_embeddings = process_dataset(TEST_CRYPTIC_ANNOTATION_PATH, TEST_NONCRYPTIC_ANNOTATION_PATH, EMBEDDING_PATH)\n",
    "test_dataset = ResidueLevelDataset(test_cryptic_embeddings, test_noncryptic_embeddings)"
   ]
  },
  {
   "cell_type": "markdown",
   "metadata": {},
   "source": [
    "## Model\n",
    "Define a model for distinguishing between cryptic and non-cryptic binding sites."
   ]
  },
  {
   "cell_type": "code",
   "execution_count": 230,
   "metadata": {},
   "outputs": [],
   "source": [
    "DROPOUT = 0.5\n",
    "LAYER_WIDTH = 100\n",
    "ESM2_DIM = 2560\n",
    "class PocketTypeEstimator(nn.Module):\n",
    "    def __init__(self, input_dim=ESM2_DIM):\n",
    "        super().__init__()\n",
    "        self.layer_1 = nn.Linear(in_features=input_dim, out_features=LAYER_WIDTH)\n",
    "        self.dropout1 = nn.Dropout(DROPOUT)\n",
    "\n",
    "        self.layer_2 = nn.Linear(in_features=LAYER_WIDTH, out_features=LAYER_WIDTH)\n",
    "        self.dropout2 = nn.Dropout(DROPOUT)\n",
    "\n",
    "        self.layer_3 = nn.Linear(in_features=LAYER_WIDTH, out_features=1)\n",
    "\n",
    "        self.relu = nn.ReLU()\n",
    "\n",
    "    def forward(self, x):\n",
    "      # Intersperse the ReLU activation function between layers\n",
    "       return self.layer_3(self.dropout1(self.relu(self.layer_2(self.dropout1(self.relu(self.layer_1(x)))))))\n"
   ]
  },
  {
   "cell_type": "code",
   "execution_count": 213,
   "metadata": {},
   "outputs": [
    {
     "data": {
      "text/plain": [
       "<torch._C.Generator at 0x15457ed3aa90>"
      ]
     },
     "execution_count": 213,
     "metadata": {},
     "output_type": "execute_result"
    }
   ],
   "source": [
    "def compute_class_weights(labels):\n",
    "    class_weights=class_weight.compute_class_weight(class_weight='balanced', classes=np.unique(labels), y=labels)\n",
    "    class_weights=torch.tensor(class_weights,dtype=torch.float)\n",
    "    return class_weights\n",
    "\n",
    "def accuracy_fn(y_true, y_pred):\n",
    "    correct = torch.eq(y_true, y_pred).sum().item()\n",
    "    acc = (correct / len(y_pred)) * 100\n",
    "    return acc\n",
    "\n",
    "torch.manual_seed(42)"
   ]
  },
  {
   "cell_type": "code",
   "execution_count": 219,
   "metadata": {},
   "outputs": [],
   "source": [
    "def evaluate(test_dataset, model, loss_fn, roc_curve=False):\n",
    "    X_test, y_test = test_dataset[:]\n",
    "    X_test, y_test = X_test.to(device), y_test.to(device).float()\n",
    "\n",
    "    model.eval()\n",
    "    with torch.inference_mode():\n",
    "        test_logits = model(X_test).squeeze()\n",
    "        test_pred = torch.round(torch.sigmoid(test_logits))\n",
    "\n",
    "        test_loss = loss_fn(test_logits,\n",
    "                            y_test)\n",
    "\n",
    "        # compute metrics on test dataset\n",
    "        test_acc = accuracy_fn(y_true=y_test,\n",
    "                                y_pred=test_pred)\n",
    "        fpr, tpr, thresholds = metrics.roc_curve(y_test.cpu().numpy(), torch.sigmoid(test_logits).cpu().numpy())\n",
    "        roc_auc = metrics.auc(fpr, tpr)\n",
    "\n",
    "        mcc = metrics.matthews_corrcoef(y_test.cpu().numpy(), test_pred.cpu().numpy())\n",
    "    if roc_curve:\n",
    "        plt.title('Receiver Operating Characteristic')\n",
    "        plt.plot(fpr, tpr, 'b', label = 'AUC = %0.2f' % roc_auc)\n",
    "        plt.legend(loc = 'lower right')\n",
    "        plt.plot([0, 1], [0, 1],'r--')\n",
    "        plt.xlim([0, 1])\n",
    "        plt.ylim([0, 1])\n",
    "        plt.ylabel('True Positive Rate')\n",
    "        plt.xlabel('False Positive Rate')\n",
    "        plt.show()\n",
    "    \n",
    "    return test_loss, test_acc, roc_auc, mcc\n",
    "\n",
    "\n",
    "def run(train_dataset, test_dataset, run_evaluation=True, epochs=60):\n",
    "    model_0 = PocketTypeEstimator().to(device)\n",
    "\n",
    "    # Create an optimizer\n",
    "    optimizer = torch.optim.Adam(params=model_0.parameters(),\n",
    "                                lr=0.0001)\n",
    "\n",
    "    X_train, y_train = train_dataset[:]\n",
    "\n",
    "    # compute class weights (because the dataset is heavily imbalanced)\n",
    "    positive_weight = get_class_weights(y_train.numpy())\n",
    "    # BCEWithLogitsLoss - sigmoid is already built-in!\n",
    "    loss_fn = nn.BCEWithLogitsLoss(pos_weight=torch.tensor(positive_weight, dtype=torch.float16))\n",
    "\n",
    "    X_train, y_train = X_train.to(device), y_train.to(device).float()\n",
    "\n",
    "    train_losses, test_losses = [], []\n",
    "\n",
    "    for epoch in range(epochs):\n",
    "        ### TRAIN\n",
    "        model_0.train()\n",
    "\n",
    "        y_logits = model_0(X_train).squeeze()\n",
    "        y_pred = torch.round(torch.sigmoid(y_logits))\n",
    "\n",
    "        loss = loss_fn(y_logits,\n",
    "                       y_train)\n",
    "        acc = accuracy_fn(y_true=y_train,\n",
    "                          y_pred=y_pred)\n",
    "\n",
    "        train_losses.append(loss.cpu().detach().numpy())\n",
    "\n",
    "        optimizer.zero_grad()\n",
    "\n",
    "        loss.backward()\n",
    "\n",
    "        optimizer.step()\n",
    "\n",
    "        ### TEST\n",
    "        if run_evaluation:\n",
    "            test_loss, acc, roc_auc, mcc = evaluate(test_dataset, model_0, loss_fn)\n",
    "            test_losses.append(test_loss.cpu().detach().numpy())\n",
    "\n",
    "            if epoch % 10 == 0:\n",
    "                print(f\"Epoch: {epoch} | Loss: {loss:.5f}, Accuracy: {acc:.2f}% | Test loss: {test_loss:.5f}, AUC: {roc_auc}, MCC: {mcc}\")\n",
    "\n",
    "\n",
    "    return train_losses, test_losses, model_0, loss_fn"
   ]
  },
  {
   "cell_type": "markdown",
   "metadata": {},
   "source": [
    "## Validation\n",
    "Find optimal number of epochs."
   ]
  },
  {
   "cell_type": "code",
   "execution_count": 245,
   "metadata": {},
   "outputs": [
    {
     "name": "stdout",
     "output_type": "stream",
     "text": [
      "Epoch: 0 | Loss: 2.29117, Accuracy: 51.09% | Test loss: 1.06046, AUC: 0.5377544954296254, MCC: 0.05293399896529643\n",
      "Epoch: 10 | Loss: 1.52874, Accuracy: 58.24% | Test loss: 0.91685, AUC: 0.6166691013205563, MCC: 0.16294696628019045\n",
      "Epoch: 20 | Loss: 1.14287, Accuracy: 60.98% | Test loss: 0.87003, AUC: 0.6375988257770144, MCC: 0.19094533693603083\n",
      "Epoch: 30 | Loss: 0.97713, Accuracy: 61.59% | Test loss: 0.85639, AUC: 0.6454979015400563, MCC: 0.20409519278871377\n",
      "Epoch: 40 | Loss: 0.89217, Accuracy: 62.66% | Test loss: 0.85173, AUC: 0.6532623938702613, MCC: 0.21731544345988085\n",
      "Epoch: 50 | Loss: 0.83853, Accuracy: 63.64% | Test loss: 0.84776, AUC: 0.6604748337237248, MCC: 0.2295392431049001\n"
     ]
    },
    {
     "data": {
      "text/plain": [
       "<matplotlib.legend.Legend at 0x15454992aa30>"
      ]
     },
     "execution_count": 245,
     "metadata": {},
     "output_type": "execute_result"
    },
    {
     "data": {
      "image/png": "[encoded data removed]",
      "text/plain": [
       "<Figure size 640x480 with 1 Axes>"
      ]
     },
     "metadata": {},
     "output_type": "display_data"
    }
   ],
   "source": [
    "train_losses, test_losses, _, _ = run(train_dataset, test_dataset, epochs=60)\n",
    "\n",
    "plt.plot(train_losses,label=\"train loss over epochs\")\n",
    "plt.plot(test_losses,label=\"test loss over epochs\")\n",
    "plt.legend()"
   ]
  },
  {
   "cell_type": "code",
   "execution_count": 238,
   "metadata": {},
   "outputs": [],
   "source": [
    "TRAIN_NONCRYPTIC_ANNOTATION_PATH = [\n",
    "    '/home/skrhakv/apolo/data/annotations/cryptobench-v2/cryptobench-noncryptic-translated-annotations/train-fold-0.csv',\n",
    "    '/home/skrhakv/apolo/data/annotations/cryptobench-v2/cryptobench-noncryptic-translated-annotations/train-fold-1.csv',\n",
    "    '/home/skrhakv/apolo/data/annotations/cryptobench-v2/cryptobench-noncryptic-translated-annotations/train-fold-2.csv',\n",
    "    '/home/skrhakv/apolo/data/annotations/cryptobench-v2/cryptobench-noncryptic-translated-annotations/train-fold-3.csv'\n",
    "]\n",
    "TRAIN_CRYPTIC_ANNOTATION_PATH = [\n",
    "    '/home/skrhakv/apolo/data/annotations/cryptobench-v2/cryptobench-translated-annotations/train-fold-0.csv',\n",
    "    '/home/skrhakv/apolo/data/annotations/cryptobench-v2/cryptobench-translated-annotations/train-fold-1.csv',\n",
    "    '/home/skrhakv/apolo/data/annotations/cryptobench-v2/cryptobench-translated-annotations/train-fold-2.csv',\n",
    "    '/home/skrhakv/apolo/data/annotations/cryptobench-v2/cryptobench-translated-annotations/train-fold-3.csv'\n",
    "]\n",
    "TEST_NONCRYPTIC_ANNOTATION_PATH = [\n",
    "    '/home/skrhakv/apolo/data/annotations/cryptobench-v2/cryptobench-noncryptic-translated-annotations/test.csv'\n",
    "]\n",
    "TEST_CRYPTIC_ANNOTATION_PATH = [\n",
    "    '/home/skrhakv/apolo/data/annotations/cryptobench-v2/cryptobench-translated-annotations/test.csv'\n",
    "    ]\n",
    "\n",
    "EMBEDDING_PATH = '/home/skrhakv/apolo/data/embeddings/cryptobench-v2/cryptobench-ahojv2-cut'\n",
    "\n",
    "train_cryptic_embeddings, train_noncryptic_embeddings = process_dataset(TRAIN_CRYPTIC_ANNOTATION_PATH, TRAIN_NONCRYPTIC_ANNOTATION_PATH, EMBEDDING_PATH)\n",
    "train_dataset = ResidueLevelDataset(train_cryptic_embeddings, train_noncryptic_embeddings)\n",
    "\n",
    "test_cryptic_embeddings, test_noncryptic_embeddings = process_dataset(TEST_CRYPTIC_ANNOTATION_PATH, TEST_NONCRYPTIC_ANNOTATION_PATH, EMBEDDING_PATH)\n",
    "test_dataset = ResidueLevelDataset(test_cryptic_embeddings, test_noncryptic_embeddings)\n",
    "\n"
   ]
  },
  {
   "cell_type": "code",
   "execution_count": 239,
   "metadata": {},
   "outputs": [
    {
     "name": "stdout",
     "output_type": "stream",
     "text": [
      "tensor(8546)\n"
     ]
    },
    {
     "data": {
      "text/plain": [
       "tensor(16107)"
      ]
     },
     "execution_count": 239,
     "metadata": {},
     "output_type": "execute_result"
    }
   ],
   "source": [
    "print(torch.sum(train_dataset.Ys))\n",
    "len(train_dataset.Ys) - torch.sum(train_dataset.Ys)\n"
   ]
  },
  {
   "cell_type": "code",
   "execution_count": 248,
   "metadata": {},
   "outputs": [],
   "source": [
    "train_losses, test_losses, model, loss_fn = run(train_dataset, test_dataset, run_evaluation=False)"
   ]
  },
  {
   "cell_type": "markdown",
   "metadata": {},
   "source": [
    "## ROC curve"
   ]
  },
  {
   "cell_type": "code",
   "execution_count": 249,
   "metadata": {},
   "outputs": [
    {
     "data": {
      "image/png": "[encoded data removed]",
      "text/plain": [
       "<Figure size 640x480 with 1 Axes>"
      ]
     },
     "metadata": {},
     "output_type": "display_data"
    },
    {
     "data": {
      "text/plain": [
       "(tensor(0.8437, device='cuda:0'),\n",
       " 64.73259334006055,\n",
       " 0.6680360218686964,\n",
       " 0.23575863538371133)"
      ]
     },
     "execution_count": 249,
     "metadata": {},
     "output_type": "execute_result"
    }
   ],
   "source": [
    "evaluate(test_dataset, model, loss_fn, roc_curve=True)"
   ]
  },
  {
   "cell_type": "markdown",
   "metadata": {},
   "source": [
    "## Stats"
   ]
  },
  {
   "cell_type": "code",
   "execution_count": 243,
   "metadata": {},
   "outputs": [
    {
     "name": "stdout",
     "output_type": "stream",
     "text": [
      "No. of NON-CRYPTIC:  1990\n",
      "No. of CRYPTIC:  3956\n"
     ]
    },
    {
     "name": "stderr",
     "output_type": "stream",
     "text": [
      "/tmp/slurm.105030/ipykernel_2766799/538506119.py:9: UserWarning: To copy construct from a tensor, it is recommended to use sourceTensor.clone().detach() or sourceTensor.clone().detach().requires_grad_(True), rather than torch.tensor(sourceTensor).\n",
      "  test_pred = torch.tensor(torch.sigmoid(test_logits) > threshold, dtype=torch.int16)\n"
     ]
    },
    {
     "data": {
      "text/plain": [
       "array([[2775, 1181],\n",
       "       [ 896, 1094]])"
      ]
     },
     "execution_count": 243,
     "metadata": {},
     "output_type": "execute_result"
    }
   ],
   "source": [
    "from sklearn.metrics import confusion_matrix\n",
    "def predict(model, test_dataset, threshold):\n",
    "    X_test, y_test = test_dataset[:]\n",
    "    X_test, y_test = X_test.to(device), y_test.to(device).float()\n",
    "\n",
    "    model.eval()\n",
    "    with torch.inference_mode():\n",
    "        test_logits = model(X_test).squeeze()\n",
    "        test_pred = torch.tensor(torch.sigmoid(test_logits) > threshold, dtype=torch.int16)\n",
    "\n",
    "    return test_pred.cpu().numpy()\n",
    "\n",
    "pred_y = predict(model, test_dataset, threshold=0.5)\n",
    "actual_y = test_dataset.Ys.numpy()\n",
    "print('No. of NON-CRYPTIC: ', np.sum(actual_y))\n",
    "print('No. of CRYPTIC: ', len(actual_y) - np.sum(actual_y))\n",
    "print(confusion_matrix(actual_y, pred_y))"
   ]
  }
 ],
 "metadata": {
  "kernelspec": {
   "display_name": "Python 3 (ipykernel)",
   "language": "python",
   "name": "python3"
  },
  "language_info": {
   "codemirror_mode": {
    "name": "ipython",
    "version": 3
   },
   "file_extension": ".py",
   "mimetype": "text/x-python",
   "name": "python",
   "nbconvert_exporter": "python",
   "pygments_lexer": "ipython3",
   "version": "3.9.18"
  }
 },
 "nbformat": 4,
 "nbformat_minor": 2
}
