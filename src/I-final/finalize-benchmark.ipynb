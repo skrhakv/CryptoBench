{
 "cells": [
  {
   "cell_type": "code",
   "execution_count": 6,
   "metadata": {},
   "outputs": [
    {
     "data": {
      "text/plain": [
       "'/home/vit/Projects/cryptobench/data/I-final/ahoj-v2/scripts/data'"
      ]
     },
     "execution_count": 6,
     "metadata": {},
     "output_type": "execute_result"
    }
   ],
   "source": [
    "import shutil\n",
    "\n",
    "OUTPUT_PATH = '/home/vit/Projects/cryptobench/data/I-final/ahoj-v2'\n",
    "shutil.copy('structure.md', f'{OUTPUT_PATH}/README.md')\n",
    "shutil.copy('benchmark-example.py', f'{OUTPUT_PATH}/scripts')\n",
    "shutil.copy('Protein.py', f'{OUTPUT_PATH}/scripts')\n",
    "shutil.copytree('data', f'{OUTPUT_PATH}/scripts/data', dirs_exist_ok=True)"
   ]
  }
 ],
 "metadata": {
  "kernelspec": {
   "display_name": "Python 3",
   "language": "python",
   "name": "python3"
  },
  "language_info": {
   "codemirror_mode": {
    "name": "ipython",
    "version": 3
   },
   "file_extension": ".py",
   "mimetype": "text/x-python",
   "name": "python",
   "nbconvert_exporter": "python",
   "pygments_lexer": "ipython3",
   "version": "3.11.6"
  }
 },
 "nbformat": 4,
 "nbformat_minor": 2
}
