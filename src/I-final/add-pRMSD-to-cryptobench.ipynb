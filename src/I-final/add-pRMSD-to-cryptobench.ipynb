{
 "cells": [
  {
   "cell_type": "code",
   "execution_count": 1,
   "metadata": {},
   "outputs": [
    {
     "name": "stderr",
     "output_type": "stream",
     "text": [
      "/tmp/ipykernel_14454/3560104166.py:12: DtypeWarning: Columns (32) have mixed types. Specify dtype option on import or set low_memory=False.\n",
      "  dataset_base_pd = pd.read_csv(PREFILTERED_CSV)\n"
     ]
    }
   ],
   "source": [
    "import csv\n",
    "import pandas as pd\n",
    "import json\n",
    "pd.set_option('display.max_rows', None)\n",
    "pd.set_option('display.max_columns', None)\n",
    "INPUT_PATH = '/home/vit/Projects/cryptobench/data/E-add-noncryptic-pockets/ahoj-v2/cryptobench'\n",
    "CRYPTIC_DATASET_PATH = f'{INPUT_PATH}/dataset.json'\n",
    "PREFILTERED_CSV = '/home/vit/Projects/cryptobench/data/B-create-dataset/ahoj-v2/dataset_dataframe.csv'\n",
    "with open(CRYPTIC_DATASET_PATH) as f:\n",
    "    cryptic_dataset = json.load(f)\n",
    "\n",
    "dataset_base_pd = pd.read_csv(PREFILTERED_CSV)\n",
    "\n",
    "for apo_pdb_id, holo_structures in cryptic_dataset.items():\n",
    "    largest_pRMSD = -1\n",
    "    for idx, holo_structure in enumerate(holo_structures):\n",
    "        holo_pdb_id = holo_structure['holo_pdb_id']\n",
    "        holo_chain_id = holo_structure['holo_chain']\n",
    "        apo_chain_id = holo_structure['apo_chain']\n",
    "        ligand = holo_structure['ligand']\n",
    "        ligand_index = int(holo_structure['ligand_index'])\n",
    "        ligand_chain = holo_structure['ligand_chain']\n",
    "        record = dataset_base_pd[\n",
    "            (dataset_base_pd['apo_structure'] == apo_pdb_id) &\n",
    "            (dataset_base_pd['holo_structure'] == holo_pdb_id) &\n",
    "            (dataset_base_pd['apo_chains3'] == apo_chain_id) &\n",
    "            (dataset_base_pd['holo_chains3'] == holo_chain_id) &\n",
    "            (dataset_base_pd['ligand'] == ligand) &\n",
    "            (dataset_base_pd['ligand_index'] == ligand_index) &\n",
    "            (dataset_base_pd['ligand_chain'] == ligand_chain)\n",
    "            ]\n",
    "        \n",
    "        if len(record) > 1:\n",
    "            assert len(record['apo_pocket_rms'].unique()) == 1\n",
    "\n",
    "        assert len(record) > 0\n",
    "        pRMSD = record['apo_pocket_rms'].iloc[0]       \n",
    "\n",
    "        largest_pRMSD = max(largest_pRMSD, pRMSD)\n",
    "\n",
    "        cryptic_dataset[apo_pdb_id][idx]['pRMSD'] = pRMSD\n",
    "    \n",
    "    already_assigned_main_holo = False\n",
    "    for idx, holo_structure in enumerate(holo_structures):\n",
    "        if cryptic_dataset[apo_pdb_id][idx]['pRMSD'] == largest_pRMSD and not already_assigned_main_holo:\n",
    "            already_assigned_main_holo = True\n",
    "            cryptic_dataset[apo_pdb_id][idx]['is_main_holo_structure'] = True\n",
    "        else:\n",
    "            cryptic_dataset[apo_pdb_id][idx]['is_main_holo_structure'] = False\n",
    "\n"
   ]
  },
  {
   "cell_type": "code",
   "execution_count": 43,
   "metadata": {},
   "outputs": [],
   "source": [
    "for apo_pdb_id, holo_structures in cryptic_dataset.items():\n",
    "    assert len([i for i in holo_structures if i['is_main_holo_structure']]) == 1"
   ]
  },
  {
   "cell_type": "markdown",
   "metadata": {},
   "source": [
    "create test set"
   ]
  },
  {
   "cell_type": "code",
   "execution_count": 11,
   "metadata": {},
   "outputs": [],
   "source": [
    "import os\n",
    "import shutil\n",
    "SPLITS_PATH = f'{INPUT_PATH}/splits.json'\n",
    "OUTPUT_PATH = '/home/vit/Projects/cryptobench/data/I-final/cryptobench/cryptobench-dataset'\n",
    "with open(SPLITS_PATH) as f:\n",
    "    splits = json.load(f)\n",
    "\n",
    "for fold, filename in zip(['test', 'train-0', 'train-1', 'train-2', 'train-3'],\n",
    "                         ['test.json', 'train-fold-0.json', 'train-fold-1.json', 'train-fold-2.json', 'train-fold-3.json']):\n",
    "    subset = {}\n",
    "    for i in splits[fold]:\n",
    "        subset[i] = cryptic_dataset[i]\n",
    "    with open(f'{OUTPUT_PATH}/folds/{filename}', 'w', encoding='utf-8') as f:\n",
    "        json.dump(subset, f, ensure_ascii=False, indent=4)\n",
    "\n",
    "with open(f'{OUTPUT_PATH}/dataset.json', 'w', encoding='utf-8') as f:\n",
    "    json.dump(cryptic_dataset, f, ensure_ascii=False, indent=4)\n",
    "\n",
    "SANITY_CHECK_PATH = f'{INPUT_PATH}'\n",
    "for filename in os.listdir(f'{SANITY_CHECK_PATH}/folds'):\n",
    "    with open(f'{SANITY_CHECK_PATH}/folds/{filename}') as f:\n",
    "        original = json.load(f)\n",
    "    with open(f'{OUTPUT_PATH}/folds/{filename}') as f:\n",
    "        new = json.load(f)\n",
    "\n",
    "    for apo, holos in original.items():\n",
    "        assert apo in new\n",
    "        assert len(new[apo]) == len(holos)\n",
    "\n",
    "shutil.copytree(f'{INPUT_PATH}/auxiliary-data', f'{OUTPUT_PATH}/auxiliary-data', dirs_exist_ok=True)\n",
    "shutil.copy(f'/home/vit/Projects/cryptobench/src/I-final/dataset-overview.md', f'{OUTPUT_PATH}/README.md')\n",
    "shutil.copy(f'{INPUT_PATH}/splits.json', OUTPUT_PATH)\n",
    "os.rename(f'{OUTPUT_PATH}/splits.json', f'{OUTPUT_PATH}/folds.json')"
   ]
  },
  {
   "cell_type": "markdown",
   "metadata": {},
   "source": [
    "# select HOLO structure with the largest pRMSD for each apo structure"
   ]
  },
  {
   "cell_type": "code",
   "execution_count": 8,
   "metadata": {},
   "outputs": [
    {
     "ename": "NameError",
     "evalue": "name 'cryptic_dataset' is not defined",
     "output_type": "error",
     "traceback": [
      "\u001b[0;31m---------------------------------------------------------------------------\u001b[0m",
      "\u001b[0;31mNameError\u001b[0m                                 Traceback (most recent call last)",
      "Cell \u001b[0;32mIn[8], line 2\u001b[0m\n\u001b[1;32m      1\u001b[0m cryptic_dataset_main_holos \u001b[38;5;241m=\u001b[39m {}\n\u001b[0;32m----> 2\u001b[0m \u001b[38;5;28;01mfor\u001b[39;00m apo_pdb_id, holo_structures \u001b[38;5;129;01min\u001b[39;00m \u001b[43mcryptic_dataset\u001b[49m\u001b[38;5;241m.\u001b[39mitems():\n\u001b[1;32m      3\u001b[0m     was_selected \u001b[38;5;241m=\u001b[39m \u001b[38;5;28;01mFalse\u001b[39;00m\n\u001b[1;32m      4\u001b[0m     \u001b[38;5;28;01mfor\u001b[39;00m idx, holo_structure \u001b[38;5;129;01min\u001b[39;00m \u001b[38;5;28menumerate\u001b[39m(holo_structures):\n",
      "\u001b[0;31mNameError\u001b[0m: name 'cryptic_dataset' is not defined"
     ]
    }
   ],
   "source": [
    "cryptic_dataset_main_holos = {}\n",
    "for apo_pdb_id, holo_structures in cryptic_dataset.items():\n",
    "    was_selected = False\n",
    "    for idx, holo_structure in enumerate(holo_structures):\n",
    "        if holo_structure['is_main_holo_structure']:\n",
    "            cryptic_dataset_main_holos[apo_pdb_id] = holo_structure\n",
    "            was_selected = True\n",
    "            break\n",
    "    assert was_selected\n",
    "\n",
    "test_subset_main_holos = {}\n",
    "for apo_pdb_id, holo_structures in test_subset.items():\n",
    "    was_selected = False\n",
    "    for idx, holo_structure in enumerate(holo_structures):\n",
    "        if holo_structure['is_main_holo_structure']:\n",
    "            test_subset_main_holos[apo_pdb_id] = holo_structure\n",
    "            was_selected = True\n",
    "            break\n",
    "    assert was_selected\n",
    "\n",
    "with open(f'../other/data/single-pair-dataset.json', 'w', encoding='utf-8') as f:\n",
    "    json.dump(cryptic_dataset_main_holos, f, ensure_ascii=False, indent=4)\n",
    "\n",
    "with open(f'../other/data/single-pair-test.json', 'w', encoding='utf-8') as f:\n",
    "    json.dump(test_subset_main_holos, f, ensure_ascii=False, indent=4)\n"
   ]
  },
  {
   "cell_type": "code",
   "execution_count": 9,
   "metadata": {},
   "outputs": [],
   "source": [
    "import json\n",
    "\n",
    "DATASET_PATH = '/home/vit/Projects/cryptobench/data/I-final/cryptobench/cryptobench-dataset/dataset.json'\n",
    "\n",
    "with open(DATASET_PATH) as f:\n",
    "    dataset = json.load(f)\n",
    "\n",
    "uniprot_ids = set()\n",
    "for apo_pdb_id, holo_structures in dataset.items():\n",
    "    for holo_structure in holo_structures:\n",
    "        this_uniprot_ids = holo_structure['uniprot_id'].split('-')\n",
    "        uniprot_ids.update(this_uniprot_ids)\n",
    "\n",
    "with open('cryptobench-uniprot-id.txt', 'w') as f:\n",
    "    for i in uniprot_ids:\n",
    "        f.write(f'{i}\\n')"
   ]
  }
 ],
 "metadata": {
  "kernelspec": {
   "display_name": "Python 3",
   "language": "python",
   "name": "python3"
  },
  "language_info": {
   "codemirror_mode": {
    "name": "ipython",
    "version": 3
   },
   "file_extension": ".py",
   "mimetype": "text/x-python",
   "name": "python",
   "nbconvert_exporter": "python",
   "pygments_lexer": "ipython3",
   "version": "3.11.6"
  }
 },
 "nbformat": 4,
 "nbformat_minor": 2
}
