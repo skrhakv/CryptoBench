{
 "cells": [
  {
   "cell_type": "code",
   "execution_count": 1,
   "metadata": {},
   "outputs": [
    {
     "name": "stderr",
     "output_type": "stream",
     "text": [
      "/tmp/ipykernel_14454/3560104166.py:12: DtypeWarning: Columns (32) have mixed types. Specify dtype option on import or set low_memory=False.\n",
      "  dataset_base_pd = pd.read_csv(PREFILTERED_CSV)\n"
     ]
    }
   ],
   "source": [
    "import csv\n",
    "import pandas as pd\n",
    "import json\n",
    "pd.set_option('display.max_rows', None)\n",
    "pd.set_option('display.max_columns', None)\n",
    "INPUT_PATH = '/home/vit/Projects/cryptobench/data/E-add-noncryptic-pockets/ahoj-v2/cryptobench'\n",
    "CRYPTIC_DATASET_PATH = f'{INPUT_PATH}/dataset.json'\n",
    "PREFILTERED_CSV = '/home/vit/Projects/cryptobench/data/B-create-dataset/ahoj-v2/dataset_dataframe.csv'\n",
    "with open(CRYPTIC_DATASET_PATH) as f:\n",
    "    cryptic_dataset = json.load(f)\n",
    "\n",
    "dataset_base_pd = pd.read_csv(PREFILTERED_CSV)\n",
    "\n",
    "for apo_pdb_id, holo_structures in cryptic_dataset.items():\n",
    "    largest_pRMSD = -1\n",
    "    for idx, holo_structure in enumerate(holo_structures):\n",
    "        holo_pdb_id = holo_structure['holo_pdb_id']\n",
    "        holo_chain_id = holo_structure['holo_chain']\n",
    "        apo_chain_id = holo_structure['apo_chain']\n",
    "        ligand = holo_structure['ligand']\n",
    "        ligand_index = int(holo_structure['ligand_index'])\n",
    "        ligand_chain = holo_structure['ligand_chain']\n",
    "        record = dataset_base_pd[\n",
    "            (dataset_base_pd['apo_structure'] == apo_pdb_id) &\n",
    "            (dataset_base_pd['holo_structure'] == holo_pdb_id) &\n",
    "            (dataset_base_pd['apo_chains3'] == apo_chain_id) &\n",
    "            (dataset_base_pd['holo_chains3'] == holo_chain_id) &\n",
    "            (dataset_base_pd['ligand'] == ligand) &\n",
    "            (dataset_base_pd['ligand_index'] == ligand_index) &\n",
    "            (dataset_base_pd['ligand_chain'] == ligand_chain)\n",
    "            ]\n",
    "        \n",
    "        if len(record) > 1:\n",
    "            assert len(record['apo_pocket_rms'].unique()) == 1\n",
    "\n",
    "        assert len(record) > 0\n",
    "        pRMSD = record['apo_pocket_rms'].iloc[0]       \n",
    "\n",
    "        largest_pRMSD = max(largest_pRMSD, pRMSD)\n",
    "\n",
    "        cryptic_dataset[apo_pdb_id][idx]['pRMSD'] = pRMSD\n",
    "    \n",
    "    already_assigned_main_holo = False\n",
    "    for idx, holo_structure in enumerate(holo_structures):\n",
    "        if cryptic_dataset[apo_pdb_id][idx]['pRMSD'] == largest_pRMSD and not already_assigned_main_holo:\n",
    "            already_assigned_main_holo = True\n",
    "            cryptic_dataset[apo_pdb_id][idx]['is_main_holo_structure'] = True\n",
    "        else:\n",
    "            cryptic_dataset[apo_pdb_id][idx]['is_main_holo_structure'] = False\n",
    "\n"
   ]
  },
  {
   "cell_type": "code",
   "execution_count": 43,
   "metadata": {},
   "outputs": [],
   "source": [
    "for apo_pdb_id, holo_structures in cryptic_dataset.items():\n",
    "    assert len([i for i in holo_structures if i['is_main_holo_structure']]) == 1"
   ]
  },
  {
   "cell_type": "markdown",
   "metadata": {},
   "source": [
    "create test set"
   ]
  },
  {
   "cell_type": "code",
   "execution_count": 11,
   "metadata": {},
   "outputs": [],
   "source": [
    "import os\n",
    "import shutil\n",
    "SPLITS_PATH = f'{INPUT_PATH}/splits.json'\n",
    "OUTPUT_PATH = '/home/vit/Projects/cryptobench/data/I-final/ahoj-v2/cryptobench-dataset'\n",
    "with open(SPLITS_PATH) as f:\n",
    "    splits = json.load(f)\n",
    "\n",
    "for fold, filename in zip(['test', 'train-0', 'train-1', 'train-2', 'train-3'],\n",
    "                         ['test.json', 'train-fold-0.json', 'train-fold-1.json', 'train-fold-2.json', 'train-fold-3.json']):\n",
    "    subset = {}\n",
    "    for i in splits[fold]:\n",
    "        subset[i] = cryptic_dataset[i]\n",
    "    with open(f'{OUTPUT_PATH}/folds/{filename}', 'w', encoding='utf-8') as f:\n",
    "        json.dump(subset, f, ensure_ascii=False, indent=4)\n",
    "\n",
    "with open(f'{OUTPUT_PATH}/dataset.json', 'w', encoding='utf-8') as f:\n",
    "    json.dump(cryptic_dataset, f, ensure_ascii=False, indent=4)\n",
    "\n",
    "SANITY_CHECK_PATH = f'{INPUT_PATH}'\n",
    "for filename in os.listdir(f'{SANITY_CHECK_PATH}/folds'):\n",
    "    with open(f'{SANITY_CHECK_PATH}/folds/{filename}') as f:\n",
    "        original = json.load(f)\n",
    "    with open(f'{OUTPUT_PATH}/folds/{filename}') as f:\n",
    "        new = json.load(f)\n",
    "\n",
    "    for apo, holos in original.items():\n",
    "        assert apo in new\n",
    "        assert len(new[apo]) == len(holos)\n",
    "\n",
    "shutil.copytree(f'{INPUT_PATH}/auxiliary-data', f'{OUTPUT_PATH}/auxiliary-data', dirs_exist_ok=True)\n",
    "shutil.copy(f'/home/vit/Projects/cryptobench/src/README.md', OUTPUT_PATH)\n",
    "shutil.copy(f'{INPUT_PATH}/splits.json', OUTPUT_PATH)\n",
    "os.rename(f'{OUTPUT_PATH}/splits.json', f'{OUTPUT_PATH}/folds.json')"
   ]
  },
  {
   "cell_type": "markdown",
   "metadata": {},
   "source": [
    "# select HOLO structure with the largest pRMSD for each apo structure"
   ]
  },
  {
   "cell_type": "code",
   "execution_count": 52,
   "metadata": {},
   "outputs": [],
   "source": [
    "cryptic_dataset_main_holos = {}\n",
    "for apo_pdb_id, holo_structures in cryptic_dataset.items():\n",
    "    was_selected = False\n",
    "    for idx, holo_structure in enumerate(holo_structures):\n",
    "        if holo_structure['is_main_holo_structure']:\n",
    "            cryptic_dataset_main_holos[apo_pdb_id] = holo_structure\n",
    "            was_selected = True\n",
    "            break\n",
    "    assert was_selected\n",
    "\n",
    "test_subset_main_holos = {}\n",
    "for apo_pdb_id, holo_structures in test_subset.items():\n",
    "    was_selected = False\n",
    "    for idx, holo_structure in enumerate(holo_structures):\n",
    "        if holo_structure['is_main_holo_structure']:\n",
    "            test_subset_main_holos[apo_pdb_id] = holo_structure\n",
    "            was_selected = True\n",
    "            break\n",
    "    assert was_selected\n",
    "\n",
    "with open(f'../other/data/single-pair-dataset.json', 'w', encoding='utf-8') as f:\n",
    "    json.dump(cryptic_dataset_main_holos, f, ensure_ascii=False, indent=4)\n",
    "\n",
    "with open(f'../other/data/single-pair-test.json', 'w', encoding='utf-8') as f:\n",
    "    json.dump(test_subset_main_holos, f, ensure_ascii=False, indent=4)\n"
   ]
  }
 ],
 "metadata": {
  "kernelspec": {
   "display_name": "Python 3",
   "language": "python",
   "name": "python3"
  },
  "language_info": {
   "codemirror_mode": {
    "name": "ipython",
    "version": 3
   },
   "file_extension": ".py",
   "mimetype": "text/x-python",
   "name": "python",
   "nbconvert_exporter": "python",
   "pygments_lexer": "ipython3",
   "version": "3.11.6"
  }
 },
 "nbformat": 4,
 "nbformat_minor": 2
}
