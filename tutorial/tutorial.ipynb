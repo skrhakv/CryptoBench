{
 "cells": [
  {
   "cell_type": "markdown",
   "metadata": {},
   "source": [
    "# CryptoBench tutorial\n",
    "This Jupyter Notebook shows some basic examples for parsing and parsing the CryptoBench dataset in general. CryptoBench is a dataset of structures containing cryptic binding sites (BSs). One ligand-free (**apo**) structure can be associated with more than one ligand-bound (**holo**) structure as there can be more than one BSs, each associated with different holo structure (or one BS can bind different ligand).\n",
    "\n",
    "## Download the dataset\n",
    "First, download the dataset (either manually [from here](https://osf.io/pz4a9/) or using the command bellow)"
   ]
  },
  {
   "cell_type": "code",
   "execution_count": null,
   "metadata": {},
   "outputs": [],
   "source": [
    "!wget -O cryptobench.zip https://files.de-1.osf.io/v1/resources/pz4a9/providers/osfstorage/?zip= --no-check-certificate\n",
    "!unzip cryptobench.zip\n",
    "!rm cryptobench.zip"
   ]
  },
  {
   "cell_type": "markdown",
   "metadata": {},
   "source": [
    "## Initialize the notebook"
   ]
  },
  {
   "cell_type": "code",
   "execution_count": 1,
   "metadata": {},
   "outputs": [],
   "source": [
    "import json\n",
    "from typing import TypeAlias, Dict, List\n",
    "\n",
    "CRYPTOBENCH_PATH = './cryptobench'\n",
    "\n",
    "JSON: TypeAlias = dict[str, \"JSON\"] | list[\"JSON\"] | str | int | float | bool | None"
   ]
  },
  {
   "cell_type": "markdown",
   "metadata": {},
   "source": [
    "## HOW TO: Load dataset and get APO binding residues"
   ]
  },
  {
   "cell_type": "code",
   "execution_count": 12,
   "metadata": {},
   "outputs": [],
   "source": [
    "def load_dataset(path: str) -> JSON:\n",
    "    \"\"\"Loads dataset from JSON file.\n",
    "\n",
    "    Args:\n",
    "        path (str): Path to JSON file\n",
    "\n",
    "    Returns:\n",
    "        JSON: dataset\n",
    "    \"\"\"\n",
    "    with open(path) as f:\n",
    "        dataset = json.load(f)\n",
    "    return dataset\n",
    "\n",
    "\n",
    "def get_apo_binding_residues(dataset: JSON) -> Dict[str, List[str]]:\n",
    "    \"\"\"Loads binding residues for each APO structure from the dataset. As the APO structure can be associated with more than one HOLO structure, you need to loop over all structures to receive every binding residue.\n",
    "\n",
    "    Returns:\n",
    "        Dict[str, List[str]]: Dictionary of all auth_seq_id indices\n",
    "    \"\"\"\n",
    "    apo_residues = {}\n",
    "    for apo_pdb_id, holo_structures in dataset.items():\n",
    "        apo_residues[apo_pdb_id] = set()\n",
    "        for holo_structure in holo_structures:\n",
    "            apo_residues[apo_pdb_id].update(holo_structure['apo_pocket_selection'])\n",
    "    return apo_residues\n",
    "\n",
    "\n",
    "# you can load the whole dataset or any of the subsets, for example cryptobench-dataset/folds/test.json'\n",
    "dataset = load_dataset(f'{CRYPTOBENCH_PATH}/cryptobench-dataset/dataset.json')\n",
    "\n",
    "apo_binding_residues = get_apo_binding_residues(dataset)"
   ]
  },
  {
   "cell_type": "markdown",
   "metadata": {},
   "source": [
    "## HOW TO: Show cryptic binding residues for Cobyrinic acid a,c diamide synthase (PDB ID: 4pfs)\n",
    "This enzyme is involved in the biosynthesis of cobalamin (vitamin B12) in anaerobic bacteria. The binding residues have format `\"{auth_asym_id}_{auth_seq_id}\"`. The `auth_asym_id` is necessary as some BSs might stretch over multiple chains."
   ]
  },
  {
   "cell_type": "code",
   "execution_count": 22,
   "metadata": {},
   "outputs": [
    {
     "data": {
      "text/plain": [
       "{'B_135',\n",
       " 'B_19',\n",
       " 'B_192',\n",
       " 'B_20',\n",
       " 'B_21',\n",
       " 'B_22',\n",
       " 'B_220',\n",
       " 'B_221',\n",
       " 'B_222',\n",
       " 'B_223',\n",
       " 'B_23',\n",
       " 'B_24',\n",
       " 'B_25',\n",
       " 'B_26',\n",
       " 'B_48'}"
      ]
     },
     "execution_count": 22,
     "metadata": {},
     "output_type": "execute_result"
    }
   ],
   "source": [
    "APO_STRUCTURE_OF_INTEREST = '4pfs'\n",
    "apo_binding_residues[APO_STRUCTURE_OF_INTEREST]"
   ]
  },
  {
   "cell_type": "markdown",
   "metadata": {},
   "source": [
    "## HOW TO: get `main` HOLO structures\n",
    "To perform an analysis on HOLO structure, it might be difficult to pick the right HOLO structure for each APO structure. In our CryptoBench manuscript, we opt for the following approach: when selecting representative HOLO structures for an performance evaluation of P2Rank: \n",
    "\n",
    "Each APO structure had is associated with a HOLO structure, which is *responsible* for inclusion of the APO structure into the dataset (e.g. the HOLO structure with the largest pocket RMSD). We selected those HOLO structures as the main HOLO representatives. The corresponding HOLO structures are marked using `is_main_holo_structure` flag."
   ]
  },
  {
   "cell_type": "code",
   "execution_count": 14,
   "metadata": {},
   "outputs": [],
   "source": [
    "def get_main_holo_structures(dataset: JSON) -> Dict[str, str]:\n",
    "    \"\"\"Retrieves 'main' HOLO structure for each APO structure\n",
    "\n",
    "    Args:\n",
    "        dataset (JSON): dataset\n",
    "\n",
    "    Returns:\n",
    "        Dict[str, str]: apo_pdb_id is key, holo_pdb_id is value\n",
    "    \"\"\"\n",
    "    apo_to_holo = {}\n",
    "    for apo_pdb_id, holo_structures in dataset.items():\n",
    "        for holo_structure in holo_structures:\n",
    "            holo_pdb_id = holo_structure['holo_pdb_id']\n",
    "            if holo_structure['is_main_holo_structure']:\n",
    "                apo_to_holo[apo_pdb_id] = holo_pdb_id\n",
    "        assert apo_pdb_id in apo_to_holo\n",
    "    return apo_to_holo\n",
    "\n",
    "\n",
    "main_holo_structures = get_main_holo_structures(dataset)"
   ]
  },
  {
   "cell_type": "markdown",
   "metadata": {},
   "source": [
    "## HOW TO: Show `main` HOLO structure for Cobyrinic acid a,c diamide synthase (PDB ID: 4pfs)"
   ]
  },
  {
   "cell_type": "code",
   "execution_count": 23,
   "metadata": {},
   "outputs": [
    {
     "data": {
      "text/plain": [
       "'5ihp'"
      ]
     },
     "execution_count": 23,
     "metadata": {},
     "output_type": "execute_result"
    }
   ],
   "source": [
    "# main holo structure for Cobyrinic acid a,c diamide synthase\n",
    "HOLO_STRUCTURE_OF_INTEREST = main_holo_structures[APO_STRUCTURE_OF_INTEREST] \n",
    "HOLO_STRUCTURE_OF_INTEREST"
   ]
  },
  {
   "cell_type": "markdown",
   "metadata": {},
   "source": [
    "## HOW TO: Load binding residues for each HOLO structure"
   ]
  },
  {
   "cell_type": "code",
   "execution_count": 20,
   "metadata": {},
   "outputs": [],
   "source": [
    "def get_holo_binding_residues(dataset: JSON) -> Dict[str, List[str]]:\n",
    "    \"\"\"Get holo binding residues for each HOLO structure in the dataset\n",
    "\n",
    "    Args:\n",
    "        dataset (JSON): dataset\n",
    "\n",
    "    Returns:\n",
    "        Dict[str, List[str]]: Dictionary of all HOLO structures, values are their binding residues. \n",
    "    \"\"\"\n",
    "    holo_residues = {}\n",
    "    for apo_pdb_id, holo_structures in dataset.items():\n",
    "        for holo_structure in holo_structures:\n",
    "            holo_pdb_id = holo_structure['holo_pdb_id']\n",
    "            if holo_pdb_id not in holo_residues:\n",
    "                holo_residues[holo_pdb_id] = set()\n",
    "            holo_residues[holo_pdb_id].update(holo_structure['holo_pocket_selection'])\n",
    "    return holo_residues\n",
    "\n",
    "holo_binding_residues = get_holo_binding_residues(dataset)"
   ]
  },
  {
   "cell_type": "markdown",
   "metadata": {},
   "source": [
    "## HOW TO: Show holo binding residues for PDB ID: 5ihp (the `main` HOLO structure for Cobyrinic acid a,c diamide synthase; PDB ID: 4pfs)"
   ]
  },
  {
   "cell_type": "code",
   "execution_count": 21,
   "metadata": {},
   "outputs": [
    {
     "data": {
      "text/plain": [
       "{'A_19',\n",
       " 'A_192',\n",
       " 'A_20',\n",
       " 'A_21',\n",
       " 'A_22',\n",
       " 'A_220',\n",
       " 'A_221',\n",
       " 'A_222',\n",
       " 'A_223',\n",
       " 'A_23',\n",
       " 'A_24',\n",
       " 'A_25',\n",
       " 'A_26'}"
      ]
     },
     "execution_count": 21,
     "metadata": {},
     "output_type": "execute_result"
    }
   ],
   "source": [
    "holo_binding_residues[HOLO_STRUCTURE_OF_INTEREST]"
   ]
  },
  {
   "cell_type": "markdown",
   "metadata": {},
   "source": [
    "## HOW TO: get ligands from particular pair \n",
    "How to retrieve ligand information from the `4pfs-5ihp` pair. The `5ihp` structure binds ATP analog ADP."
   ]
  },
  {
   "cell_type": "code",
   "execution_count": 24,
   "metadata": {},
   "outputs": [
    {
     "data": {
      "text/plain": [
       "[('ADP', '1001', 'A')]"
      ]
     },
     "execution_count": 24,
     "metadata": {},
     "output_type": "execute_result"
    }
   ],
   "source": [
    "def get_ligand_information(dataset: JSON, apo_pdb_id: str, holo_pdb_id: str) -> List[tuple[str, str, str]]:\n",
    "    \"\"\"Retrieve information about ligand in apo-holo pair. The ligand is present only in the HOLO form, therefore the information is applicable only for the HOLO structure as there is no ligand in APO structure.\n",
    "\n",
    "    Args:\n",
    "        dataset (JSON): dataset\n",
    "        apo_pdb_id (str): APO structure\n",
    "        holo_pdb_id (str): HOLO structure\n",
    "\n",
    "    Returns:\n",
    "        List[tuple[str, str, str]]: List of ligand acronyms, ligand auth_seq_ids, and ligand auth_asym_ids\n",
    "    \"\"\"\n",
    "    assert apo_pdb_id in dataset, f'{apo_pdb_id} is not present in the dataset'\n",
    "    ligands = []\n",
    "    for holo_structure in dataset[apo_pdb_id]:\n",
    "        this_holo_pdb_id = holo_structure['holo_pdb_id']\n",
    "        this_ligand = holo_structure['ligand']\n",
    "        this_ligand_index = holo_structure['ligand_index']\n",
    "        this_ligand_chain = holo_structure['ligand_chain']\n",
    "        if this_holo_pdb_id == holo_pdb_id:\n",
    "            ligands.append((this_ligand, this_ligand_index, this_ligand_chain))\n",
    "    return ligands       \n",
    "\n",
    "get_ligand_information(dataset, APO_STRUCTURE_OF_INTEREST, HOLO_STRUCTURE_OF_INTEREST)"
   ]
  },
  {
   "cell_type": "markdown",
   "metadata": {},
   "source": [
    "## HOW TO: Retrieve all apo-holo pairs from CryptoBench"
   ]
  },
  {
   "cell_type": "code",
   "execution_count": null,
   "metadata": {},
   "outputs": [],
   "source": [
    "def get_apo_holo_pairs(dataset: JSON) -> set[tuple[str, str]]:\n",
    "    \"\"\"Retrieves every apo-holo pair from the dataset\n",
    "\n",
    "    Args:\n",
    "        dataset (JSON): dataset\n",
    "\n",
    "    Returns:\n",
    "        set[tuple[str, str]]: every apo-holo pair\n",
    "    \"\"\"\n",
    "    \n",
    "    for apo_pdb_id, holo_structures in dataset.items():\n",
    "        for holo_structure in holo_structures:\n",
    "            holo_pdb_id = holo_structure['holo_pdb_id'] "
   ]
  },
  {
   "cell_type": "markdown",
   "metadata": {},
   "source": [
    "TODO: README in src"
   ]
  }
 ],
 "metadata": {
  "kernelspec": {
   "display_name": "Python 3",
   "language": "python",
   "name": "python3"
  },
  "language_info": {
   "codemirror_mode": {
    "name": "ipython",
    "version": 3
   },
   "file_extension": ".py",
   "mimetype": "text/x-python",
   "name": "python",
   "nbconvert_exporter": "python",
   "pygments_lexer": "ipython3",
   "version": "3.11.6"
  }
 },
 "nbformat": 4,
 "nbformat_minor": 2
}
