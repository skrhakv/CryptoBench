{
 "cells": [
  {
   "cell_type": "markdown",
   "metadata": {},
   "source": [
    "# CryptoBench tutorial\n",
    "This Jupyter Notebook provides basic examples for parsing and exploring the CryptoBench dataset. CryptoBench contains protein structures with cryptic binding sites (BSs). Each ligand-free (**apo**) structure may be linked to multiple ligand-bound (**holo**) structures, as there may be multiple BSs, each associated with different holo structures. \n",
    "\n",
    "## Download the dataset\n",
    "To begin, download the dataset—either manually from [this link](https://osf.io/pz4a9/) or by using the command below."
   ]
  },
  {
   "cell_type": "code",
   "execution_count": null,
   "metadata": {},
   "outputs": [],
   "source": [
    "!wget -O cryptobench.zip https://files.de-1.osf.io/v1/resources/pz4a9/providers/osfstorage/?zip= --no-check-certificate\n",
    "!unzip cryptobench.zip\n",
    "!rm cryptobench.zip"
   ]
  },
  {
   "cell_type": "markdown",
   "metadata": {},
   "source": [
    "## Initialize the notebook"
   ]
  },
  {
   "cell_type": "code",
   "execution_count": 1,
   "metadata": {},
   "outputs": [],
   "source": [
    "import json\n",
    "from typing import TypeAlias, Dict, List\n",
    "\n",
    "CRYPTOBENCH_PATH = './cryptobench'\n",
    "\n",
    "JSON: TypeAlias = dict[str, \"JSON\"] | list[\"JSON\"] | str | int | float | bool | None\n",
    "BindingSite: TypeAlias = List[str]\n",
    "ApoPdbId: TypeAlias = str\n",
    "HoloPdbId: TypeAlias = str\n",
    "Chain: TypeAlias = str\n",
    "Ligand: TypeAlias = tuple[str, str, str]"
   ]
  },
  {
   "cell_type": "markdown",
   "metadata": {},
   "source": [
    "## HOW TO: Load dataset and get APO binding residues\n",
    "The dataset is provided as a JSON file. The following snippet demonstrates how to extract all **apo** binding residues in a dictionary format, where each key is an apo structure PDB ID and each value is a list of binding residues (annotated with `auth_seq_id`)."
   ]
  },
  {
   "cell_type": "code",
   "execution_count": 2,
   "metadata": {},
   "outputs": [],
   "source": [
    "def load_dataset(path: str) -> JSON:\n",
    "    \"\"\"Loads dataset from JSON file.\n",
    "\n",
    "    Args:\n",
    "        path (str): Path to JSON file\n",
    "\n",
    "    Returns:\n",
    "        JSON: dataset\n",
    "    \"\"\"\n",
    "    with open(path) as f:\n",
    "        dataset = json.load(f)\n",
    "    return dataset\n",
    "\n",
    "\n",
    "def get_apo_binding_residues(dataset: JSON) -> Dict[ApoPdbId, BindingSite]:\n",
    "    \"\"\"Loads binding residues for each APO structure from the dataset. As the APO structure can be associated with more than one HOLO structure, you need to loop over all structures to receive every binding residue.\n",
    "\n",
    "    Returns:\n",
    "        Dict[ApoPdbId, BindingSite]: Dictionary of all auth_seq_id indices\n",
    "    \"\"\"\n",
    "    apo_residues = {}\n",
    "    for apo_pdb_id, holo_structures in dataset.items():\n",
    "        apo_residues[apo_pdb_id] = set()\n",
    "        for holo_structure in holo_structures:\n",
    "            apo_residues[apo_pdb_id].update(holo_structure['apo_pocket_selection'])\n",
    "    return apo_residues\n",
    "\n",
    "\n",
    "# you can load the whole dataset or any of the subsets, for example '{CRYPTOBENCH_PATH}/cryptobench-dataset/folds/test.json'\n",
    "dataset = load_dataset(f'{CRYPTOBENCH_PATH}/cryptobench-dataset/dataset.json')\n",
    "\n",
    "apo_binding_residues = get_apo_binding_residues(dataset)"
   ]
  },
  {
   "cell_type": "markdown",
   "metadata": {},
   "source": [
    "## HOW TO: Display cryptic binding residues for Cobyrinic acid a,c diamide synthase (PDB ID: 4pfs)\n",
    "This enzyme plays a role in the biosynthesis of cobalamin (vitamin B12) in anaerobic bacteria. Binding residues are formatted as `\"{auth_asym_id}_{auth_seq_id}\"`, where `auth_asym_id` is necessary as some BSs might stretch over multiple chains. \n",
    "\n",
    "Let's use the data calculated in the previous example."
   ]
  },
  {
   "cell_type": "code",
   "execution_count": 4,
   "metadata": {},
   "outputs": [
    {
     "data": {
      "text/plain": [
       "{'B_135',\n",
       " 'B_19',\n",
       " 'B_192',\n",
       " 'B_20',\n",
       " 'B_21',\n",
       " 'B_22',\n",
       " 'B_220',\n",
       " 'B_221',\n",
       " 'B_222',\n",
       " 'B_223',\n",
       " 'B_23',\n",
       " 'B_24',\n",
       " 'B_25',\n",
       " 'B_26',\n",
       " 'B_48'}"
      ]
     },
     "execution_count": 4,
     "metadata": {},
     "output_type": "execute_result"
    }
   ],
   "source": [
    "APO_STRUCTURE_OF_INTEREST = '4pfs'\n",
    "apo_binding_residues[APO_STRUCTURE_OF_INTEREST]"
   ]
  },
  {
   "cell_type": "markdown",
   "metadata": {},
   "source": [
    "## HOW TO: Get `main` HOLO structures\n",
    "When analyzing HOLO structures, choosing the representative HOLO for each APO can be difficult. In our CryptoBench manuscript, we selected representative HOLO structures for performance evaluation with P2Rank as follows:\n",
    "\n",
    "For each APO structure, we chose the HOLO structure that led to inclusion of the respective APO structure in the dataset (e.g., the HOLO with the largest pocket RMSD). These HOLO structures, marked with the `is_main_holo_structure` flag in the dataset, serve as the primary HOLO representatives."
   ]
  },
  {
   "cell_type": "code",
   "execution_count": 5,
   "metadata": {},
   "outputs": [],
   "source": [
    "def get_main_holo_structures(dataset: JSON) -> Dict[ApoPdbId, HoloPdbId]:\n",
    "    \"\"\"Retrieves 'main' HOLO structure for each APO structure\n",
    "\n",
    "    Args:\n",
    "        dataset (JSON): dataset\n",
    "\n",
    "    Returns:\n",
    "        Dict[ApoPdbId, HoloPdbId]: apo_pdb_id is key, holo_pdb_id is value\n",
    "    \"\"\"\n",
    "    apo_to_holo = {}\n",
    "    for apo_pdb_id, holo_structures in dataset.items():\n",
    "        for holo_structure in holo_structures:\n",
    "            holo_pdb_id = holo_structure['holo_pdb_id']\n",
    "            if holo_structure['is_main_holo_structure']:\n",
    "                apo_to_holo[apo_pdb_id] = holo_pdb_id\n",
    "        assert apo_pdb_id in apo_to_holo\n",
    "    return apo_to_holo\n",
    "\n",
    "\n",
    "main_holo_structures = get_main_holo_structures(dataset)"
   ]
  },
  {
   "cell_type": "markdown",
   "metadata": {},
   "source": [
    "## HOW TO: Display `main` HOLO structure for Cobyrinic acid a,c diamide synthase (PDB ID: 4pfs)\n",
    "Let's use the data extracted in the previous example to determine the main HOLO structure for `4pfs`."
   ]
  },
  {
   "cell_type": "code",
   "execution_count": 6,
   "metadata": {},
   "outputs": [
    {
     "data": {
      "text/plain": [
       "'5ihp'"
      ]
     },
     "execution_count": 6,
     "metadata": {},
     "output_type": "execute_result"
    }
   ],
   "source": [
    "# main holo structure for Cobyrinic acid a,c diamide synthase\n",
    "HOLO_STRUCTURE_OF_INTEREST = main_holo_structures[APO_STRUCTURE_OF_INTEREST] \n",
    "HOLO_STRUCTURE_OF_INTEREST"
   ]
  },
  {
   "cell_type": "markdown",
   "metadata": {},
   "source": [
    "## HOW TO: Load binding residues for each HOLO structure\n",
    "Similar to the first snippet, let's extract the binding residues for all HOLO structures. Keep in mind that HOLO structures associated with the same APO structure will be highly similar. Therefore, when analyzing HOLO structures, consider balancing them (e.g., by using the `is_main_holo_structure` flag as demonstrated in the previous example)."
   ]
  },
  {
   "cell_type": "code",
   "execution_count": 20,
   "metadata": {},
   "outputs": [],
   "source": [
    "def get_holo_binding_residues(dataset: JSON) -> Dict[HoloPdbId, BindingSite]:\n",
    "    \"\"\"Get holo binding residues for each HOLO structure in the dataset\n",
    "\n",
    "    Args:\n",
    "        dataset (JSON): dataset\n",
    "\n",
    "    Returns:\n",
    "        Dict[HoloPdbId, BindingSite]: Dictionary of all HOLO structures, values are their binding residues. \n",
    "    \"\"\"\n",
    "    holo_residues = {}\n",
    "    for apo_pdb_id, holo_structures in dataset.items():\n",
    "        for holo_structure in holo_structures:\n",
    "            holo_pdb_id = holo_structure['holo_pdb_id']\n",
    "            if holo_pdb_id not in holo_residues:\n",
    "                holo_residues[holo_pdb_id] = set()\n",
    "            holo_residues[holo_pdb_id].update(holo_structure['holo_pocket_selection'])\n",
    "    return holo_residues\n",
    "\n",
    "holo_binding_residues = get_holo_binding_residues(dataset)"
   ]
  },
  {
   "cell_type": "markdown",
   "metadata": {},
   "source": [
    "## HOW TO: Show holo binding residues for `5ihp`\n",
    "In this example, we will use the data from the previous step to determine the binding residues for the holo structure `5ihp`, which is the **main** HOLO structure for Cobyrinic acid a,c diamide synthase (PDB ID: `4pfs`)."
   ]
  },
  {
   "cell_type": "code",
   "execution_count": 21,
   "metadata": {},
   "outputs": [
    {
     "data": {
      "text/plain": [
       "{'A_19',\n",
       " 'A_192',\n",
       " 'A_20',\n",
       " 'A_21',\n",
       " 'A_22',\n",
       " 'A_220',\n",
       " 'A_221',\n",
       " 'A_222',\n",
       " 'A_223',\n",
       " 'A_23',\n",
       " 'A_24',\n",
       " 'A_25',\n",
       " 'A_26'}"
      ]
     },
     "execution_count": 21,
     "metadata": {},
     "output_type": "execute_result"
    }
   ],
   "source": [
    "holo_binding_residues[HOLO_STRUCTURE_OF_INTEREST]"
   ]
  },
  {
   "cell_type": "markdown",
   "metadata": {},
   "source": [
    "## HOW TO: get ligands from particular pair \n",
    "How to retrieve ligand information from the `4pfs-5ihp` pair. The `5ihp` structure binds `ADP` and can be found in chain `A`, index `1001`."
   ]
  },
  {
   "cell_type": "code",
   "execution_count": 24,
   "metadata": {},
   "outputs": [
    {
     "data": {
      "text/plain": [
       "[('ADP', '1001', 'A')]"
      ]
     },
     "execution_count": 24,
     "metadata": {},
     "output_type": "execute_result"
    }
   ],
   "source": [
    "def get_ligand_information(dataset: JSON, apo_pdb_id: ApoPdbId, holo_pdb_id: HoloPdbId) -> List[Ligand]:\n",
    "    \"\"\"Retrieve information about ligand in apo-holo pair. The ligand is present only in the HOLO form, therefore the information is applicable only for the HOLO structure as there is no ligand in APO structure.\n",
    "\n",
    "    Args:\n",
    "        dataset (JSON): dataset\n",
    "        apo_pdb_id (ApoPdbId): APO structure\n",
    "        holo_pdb_id (HoloPdbId): HOLO structure\n",
    "\n",
    "    Returns:\n",
    "        List[Ligand]: List of ligand acronyms, ligand auth_seq_ids, and ligand auth_asym_ids\n",
    "    \"\"\"\n",
    "    assert apo_pdb_id in dataset, f'{apo_pdb_id} is not present in the dataset'\n",
    "    ligands = []\n",
    "    for holo_structure in dataset[apo_pdb_id]:\n",
    "        this_holo_pdb_id = holo_structure['holo_pdb_id']\n",
    "        this_ligand = (holo_structure['ligand'], holo_structure['ligand_index'], holo_structure['ligand_chain'])\n",
    "        if this_holo_pdb_id == holo_pdb_id:\n",
    "            ligands.append(this_ligand)\n",
    "    return ligands       \n",
    "\n",
    "get_ligand_information(dataset, APO_STRUCTURE_OF_INTEREST, HOLO_STRUCTURE_OF_INTEREST)"
   ]
  },
  {
   "cell_type": "markdown",
   "metadata": {},
   "source": [
    "## HOW TO: Retrieve all apo-holo pairs from CryptoBench\n",
    "Let’s retrieve all apo-holo pairs as a set of tuples, each containing an APO and a corresponding HOLO PDB ID. Note that a single APO structure may be linked to multiple HOLO structures."
   ]
  },
  {
   "cell_type": "code",
   "execution_count": 30,
   "metadata": {},
   "outputs": [],
   "source": [
    "def get_apo_holo_pairs(dataset: JSON) -> set[tuple[ApoPdbId, HoloPdbId]]:\n",
    "    \"\"\"Retrieves every apo-holo pair from the dataset\n",
    "\n",
    "    Args:\n",
    "        dataset (JSON): dataset\n",
    "\n",
    "    Returns:\n",
    "        set[tuple[ApoPdbId, HoloPdbId]]: every apo-holo pair\n",
    "    \"\"\"\n",
    "    apo_holo_pairs = set()\n",
    "    for apo_pdb_id, holo_structures in dataset.items():\n",
    "        for holo_structure in holo_structures:\n",
    "            holo_pdb_id = holo_structure['holo_pdb_id'] \n",
    "            apo_holo_pairs.add((apo_pdb_id, holo_pdb_id))\n",
    "    return apo_holo_pairs\n",
    "\n",
    "apo_holo_pairs = get_apo_holo_pairs(dataset)"
   ]
  },
  {
   "cell_type": "markdown",
   "metadata": {},
   "source": [
    "## HOW TO: Display pairs associated with the `4pfs` APO structure\n",
    "Using the data from the previous snippet, let’s find all HOLO structures linked to `4pfs`. Additionally, display ligand information for each associated HOLO structure."
   ]
  },
  {
   "cell_type": "code",
   "execution_count": 57,
   "metadata": {},
   "outputs": [
    {
     "name": "stdout",
     "output_type": "stream",
     "text": [
      "APO-HOLO pairs asociated with \"4pfs\" APO structure:  [('4pfs', '5if9'), ('4pfs', '5ihp')]\n",
      "Ligands in each HOLO structure:  [[('ANP', '1001', 'B')], [('ADP', '1001', 'A')]]\n"
     ]
    }
   ],
   "source": [
    "selected_apo_holo_pairs = [(apo, holo) for apo, holo in apo_holo_pairs if apo == APO_STRUCTURE_OF_INTEREST]\n",
    "selected_ligands = [get_ligand_information(dataset, apo, holo) for apo, holo in selected_apo_holo_pairs]\n",
    "print('APO-HOLO pairs asociated with \"4pfs\" APO structure: ', selected_apo_holo_pairs)\n",
    "print('Ligands in each HOLO structure: ', selected_ligands)"
   ]
  },
  {
   "cell_type": "markdown",
   "metadata": {},
   "source": [
    "## HOW TO: Determine if two ligands bind to the same BS\n",
    "In the `4pfs` APO structure, two ligands, `ANP` and `ADP`, appear to bind. To see if both ligands occupy the same BS, let’s check whether their sets of binding residues overlap significantly.\n",
    "\n",
    "If we observe a substantial overlap, it would indicate a single *promiscuous* BS in `4pfs` capable of binding both ligands. By contrast, if there is minimal or no overlap, it suggests that `ANP` and `ADP` bind at two distinct binding sites."
   ]
  },
  {
   "cell_type": "code",
   "execution_count": 60,
   "metadata": {},
   "outputs": [
    {
     "name": "stdout",
     "output_type": "stream",
     "text": [
      "Are the two selections overlaping significantly: True\n"
     ]
    }
   ],
   "source": [
    "def get_binding_site_in_apo(dataset: JSON, apo_pdb_id: ApoPdbId, holo_pdb_id: HoloPdbId, ligand: Ligand) -> BindingSite:\n",
    "    holo_structures = dataset[apo_pdb_id]\n",
    "    for holo_structure in holo_structures:\n",
    "        this_holo_pdb_id = holo_structure['holo_pdb_id']\n",
    "        this_ligand = (holo_structure['ligand'], holo_structure['ligand_index'], holo_structure['ligand_chain'])\n",
    "        if this_holo_pdb_id == holo_pdb_id and ligand == this_ligand:\n",
    "            return holo_structure['apo_pocket_selection']\n",
    "    assert False, \"Specified binding site doesn't exist\"\n",
    "\n",
    "def are_binding_sites_promiscuous(binding_site1: BindingSite, binding_site2: BindingSite, threshold=0.75) -> bool:\n",
    "    \"\"\"Check whether two binding sites are overlaping more than certain threshold. True value indicates that the two selections are actually indicating a single promiscuous binding site (binding site capable to bind more than one type of ligand)\n",
    "\n",
    "    Args:\n",
    "        binding_site1 (BindingSite): selection of first binding site\n",
    "        binding_site2 (BindingSite): selection of second binding site\n",
    "        threshold (float, optional): similarity threshold. Defaults to 0.75.\n",
    "\n",
    "    Returns:\n",
    "        bool: True if the binding sites are overlaping significantly.\n",
    "    \"\"\"\n",
    "    overlap_length = len(list(set(binding_site1) & set(binding_site2)))\n",
    "    if overlap_length / len(binding_site1) > threshold and overlap_length / len(binding_site2) > threshold:\n",
    "        return True\n",
    "    return False\n",
    "\n",
    "selected_ligands = [get_ligand_information(dataset, apo, holo) for apo, holo in selected_apo_holo_pairs]\n",
    "# we already know that there is only one ligand in each HOLO structure so we can do this:\n",
    "selected_ligands = [i[0] for i in selected_ligands]\n",
    "\n",
    "binding_site1: BindingSite = get_binding_site_in_apo(dataset, selected_apo_holo_pairs[0][0], selected_apo_holo_pairs[0][1], selected_ligands[0])\n",
    "binding_site2: BindingSite = get_binding_site_in_apo(dataset, selected_apo_holo_pairs[1][0], selected_apo_holo_pairs[1][1], selected_ligands[1])\n",
    "\n",
    "print(f'Are the two selections overlaping significantly: {are_binding_sites_promiscuous(binding_site1, binding_site2)}')\n"
   ]
  },
  {
   "cell_type": "markdown",
   "metadata": {},
   "source": [
    "## HOW TO: Extract BSs spanning multiple chains\n",
    "CryptoBench includes examples where binding sites span across multiple chains. Let’s retrieve all such multichain binding sites. Then, we’ll display the binding residues for the multichain binding site in `1q5v`."
   ]
  },
  {
   "cell_type": "code",
   "execution_count": 4,
   "metadata": {},
   "outputs": [
    {
     "data": {
      "text/plain": [
       "{'A_19',\n",
       " 'A_20',\n",
       " 'A_23',\n",
       " 'A_25',\n",
       " 'A_31',\n",
       " 'A_34',\n",
       " 'A_35',\n",
       " 'A_38',\n",
       " 'B_124',\n",
       " 'B_125',\n",
       " 'B_40',\n",
       " 'B_43'}"
      ]
     },
     "execution_count": 4,
     "metadata": {},
     "output_type": "execute_result"
    }
   ],
   "source": [
    "def get_multichain_apo_binding_sites(dataset: JSON) -> Dict[ApoPdbId, BindingSite]:\n",
    "    \"\"\"Get BSs from CryptoBench APO structures which stretch over multiple chains\n",
    "\n",
    "    Args:\n",
    "        dataset (JSON): dataset\n",
    "\n",
    "    Returns:\n",
    "        Dict[ApoPdbId, BindingSite]: multichain binding sites\n",
    "    \"\"\"\n",
    "    multichain_binding_sites = {}\n",
    "    for apo_pdb_id, holo_structures in dataset.items():\n",
    "        for holo_structure in holo_structures:\n",
    "            apo_chain_id = holo_structure['apo_chain'] \n",
    "            holo_chain_id = holo_structure['holo_chain'] \n",
    "            if '-' in apo_chain_id or '-' in holo_chain_id:\n",
    "                if apo_pdb_id not in multichain_binding_sites: multichain_binding_sites[apo_pdb_id] = set(holo_structure['apo_pocket_selection'])\n",
    "                else: multichain_binding_sites[apo_pdb_id].update(holo_structure['apo_pocket_selection'])\n",
    "    return multichain_binding_sites\n",
    "\n",
    "multichain_binding_sites = get_multichain_apo_binding_sites(dataset)\n",
    "multichain_binding_sites['1q5v'] # has 8 binding residues in 'A' chain and 4 binding residues in 'B' chain "
   ]
  },
  {
   "cell_type": "markdown",
   "metadata": {},
   "source": [
    "## Unzip the CIF files\n",
    "To proceed, you’ll need to unzip the CIF files from the ZIP file included in the dataset. Additionally, make sure the `biopython` package is installed. If not, install it by running the command `pip install biopython`."
   ]
  },
  {
   "cell_type": "code",
   "execution_count": null,
   "metadata": {},
   "outputs": [],
   "source": [
    "!unzip {CRYPTOBENCH_PATH}/cryptobench-dataset/auxiliary-data/cif-files.zip -d {CRYPTOBENCH_PATH}/cryptobench-dataset/auxiliary-data\n",
    "!rm {CRYPTOBENCH_PATH}/cryptobench-dataset/auxiliary-data/cif-files.zip"
   ]
  },
  {
   "cell_type": "code",
   "execution_count": 13,
   "metadata": {},
   "outputs": [
    {
     "name": "stdout",
     "output_type": "stream",
     "text": [
      "Defaulting to user installation because normal site-packages is not writeable\n",
      "Requirement already satisfied: biopython in /home/vit/.local/lib/python3.11/site-packages (1.81)\n",
      "Collecting biopython\n",
      "  Obtaining dependency information for biopython from https://files.pythonhosted.org/packages/4c/3c/cecf231afa65e7194ac06ba981631a9870515bb7a37a15cad1ab414325c4/biopython-1.84-cp311-cp311-manylinux_2_17_x86_64.manylinux2014_x86_64.whl.metadata\n",
      "  Downloading biopython-1.84-cp311-cp311-manylinux_2_17_x86_64.manylinux2014_x86_64.whl.metadata (12 kB)\n",
      "Requirement already satisfied: numpy in /home/vit/.local/lib/python3.11/site-packages (from biopython) (1.26.1)\n",
      "Downloading biopython-1.84-cp311-cp311-manylinux_2_17_x86_64.manylinux2014_x86_64.whl (3.2 MB)\n",
      "\u001b[2K   \u001b[90m━━━━━━━━━━━━━━━━━━━━━━━━━━━━━━━━━━━━━━━━\u001b[0m \u001b[32m3.2/3.2 MB\u001b[0m \u001b[31m23.3 MB/s\u001b[0m eta \u001b[36m0:00:00\u001b[0ma \u001b[36m0:00:01\u001b[0m\n",
      "\u001b[?25hInstalling collected packages: biopython\n",
      "  Attempting uninstall: biopython\n",
      "    Found existing installation: biopython 1.81\n",
      "    Uninstalling biopython-1.81:\n",
      "      Successfully uninstalled biopython-1.81\n",
      "Successfully installed biopython-1.84\n",
      "\n",
      "\u001b[1m[\u001b[0m\u001b[34;49mnotice\u001b[0m\u001b[1;39;49m]\u001b[0m\u001b[39;49m A new release of pip is available: \u001b[0m\u001b[31;49m23.2.1\u001b[0m\u001b[39;49m -> \u001b[0m\u001b[32;49m24.3.1\u001b[0m\n",
      "\u001b[1m[\u001b[0m\u001b[34;49mnotice\u001b[0m\u001b[1;39;49m]\u001b[0m\u001b[39;49m To update, run: \u001b[0m\u001b[32;49mpip install --upgrade pip\u001b[0m\n"
     ]
    }
   ],
   "source": [
    "!python3 -m pip install --upgrade biopython"
   ]
  },
  {
   "cell_type": "markdown",
   "metadata": {},
   "source": [
    "## HOW TO: Convert `auth_seq_ids` to `label_seq_ids`\n",
    "In PDB files, the author-assigned residue numbers (`auth_seq_id`)  may differ from the sequential numbering assigned by PDB (`label_seq_id`). In CryptoBench, binding residues are identified using author-defined residue numbers.\n",
    "\n",
    "Let’s use the `4n5g` structure as an example, because the `auth_seq_ids` and `label_seq_ids` do not match. Here’s how to translate `auth_seq_ids` to `label_seq_ids` for this structure."
   ]
  },
  {
   "cell_type": "code",
   "execution_count": 25,
   "metadata": {},
   "outputs": [
    {
     "name": "stdout",
     "output_type": "stream",
     "text": [
      "Let's compare the outputs:\n",
      "annotated by auth_seq_id:\t [265, 268, 269, 271, 272, 275, 276, 305, 306, 309, 310, 313, 316, 324, 325, 326, 327, 328, 332, 337, 342, 345, 346, 349, 432, 433, 435, 436, 438, 439, 441, 442, 451]\n",
      "annotated by label_seq_id:\t [47, 50, 51, 53, 54, 57, 58, 87, 88, 91, 92, 95, 98, 106, 107, 108, 109, 110, 114, 119, 124, 127, 128, 131, 214, 215, 217, 218, 220, 221, 223, 224, 233]\n"
     ]
    }
   ],
   "source": [
    "from Bio.PDB.MMCIFParser import MMCIFParser\n",
    "def auth_to_label(pdb_id: ApoPdbId, chain_id: Chain, binding_site: BindingSite) -> BindingSite:\n",
    "\n",
    "    # binding residues have the following format: 'A_11'. We need to extract the numbers:\n",
    "    auth_binding_site = [int(i.split('_')[1]) for i in binding_site]\n",
    "\n",
    "    parser = MMCIFParser(QUIET=True)\n",
    "    auth_structure = parser.get_structure(pdb_id, f\"{CRYPTOBENCH_PATH}/cryptobench-dataset/auxiliary-data/cif-files/{pdb_id.lower()}.cif\")\n",
    "\n",
    "    parser = MMCIFParser(auth_residues=False, QUIET=True)\n",
    "    label_structure = parser.get_structure(pdb_id, f\"{CRYPTOBENCH_PATH}/cryptobench-dataset/auxiliary-data/cif-files/{pdb_id.lower()}.cif\")\n",
    "\n",
    "    label_binding_site = set()\n",
    "    for auth_residue, label_residue in zip(auth_structure[0][chain_id].get_residues(), label_structure[0][chain_id].get_residues()):\n",
    "        if auth_residue.get_id()[0][0] == ' ':\n",
    "            auth_seq_id = auth_residue.get_id()[1]\n",
    "            label_seq_id = label_residue.get_id()[1]\n",
    "\n",
    "            if auth_seq_id in auth_binding_site:\n",
    "                label_binding_site.add(label_seq_id)\n",
    "\n",
    "    return label_binding_site\n",
    "\n",
    "pdb_id = '4n5g'\n",
    "binding_residues = list(apo_binding_residues[pdb_id])\n",
    "chain_id = binding_residues[0].split('_')[0]\n",
    "# check that the BS in `APO_STRUCTURE_OF_INTEREST` is not stretching over multiple chains\n",
    "for binding_residue in binding_residues:\n",
    "    assert chain_id == binding_residue.split('_')[0]\n",
    "label_binding_residues = auth_to_label(pdb_id, chain_id, binding_residues)\n",
    "\n",
    "print(\"Let's compare the outputs:\")\n",
    "print('annotated by auth_seq_id:\\t', sorted({int(i.split('_')[1]) for i in binding_residues}))\n",
    "print('annotated by label_seq_id:\\t', sorted(label_binding_residues))\n"
   ]
  },
  {
   "cell_type": "markdown",
   "metadata": {},
   "source": [
    "## HOW TO: Extract sequence from an mmCIF file with binding residue indices\n",
    "When developing sequence-based methods, it can be helpful to extract a structure’s sequence along with binding residue indices within that sequence (`label_seq_id`/`auth_seq_id` may not be reliable due to unobserved residues). Here, we’ll demonstrate how to retrieve the sequence and binding residue indices directly from an mmCIF file."
   ]
  },
  {
   "cell_type": "code",
   "execution_count": 33,
   "metadata": {},
   "outputs": [
    {
     "name": "stdout",
     "output_type": "stream",
     "text": [
      "sequence:\tPVERILEAELAPNDPVTNICQAADKQLFTLVEWAKRIPHFSELPLDDQVILLRAGWNELLIASFSHRSIAVKDGILLATGLHVHRNSAHSAGVGAIFDRVLTELVSKMRDMQMDKTELGCLRAIVLFNPDSKGLSNPAEVEALREKVYASLEAYCKHKYPEQPGRFAKLLLRLPALRSIGLKCLEHLFFFKLIGDTPIDTFLMEMLEAP\n",
      "indices of binding residues with corresponding amino acid:\t ['V15', 'I18', 'C19', 'A21', 'A22', 'Q25', 'L26', 'W55', 'N56', 'L59', 'I60', 'F63', 'R66', 'I74', 'L75', 'L76', 'A77', 'T78', 'V82', 'A87', 'V92', 'I95', 'F96', 'V99', 'C182', 'L183', 'H185', 'L186', 'F188', 'F189', 'L191', 'I192', 'L201']\n"
     ]
    }
   ],
   "source": [
    "from Bio.Data.IUPACData import protein_letters_3to1\n",
    "\n",
    "def get_sequence_with_indices(pdb_id: ApoPdbId, chain_id: Chain, binding_site: BindingSite) -> tuple[str, BindingSite]:\n",
    "\n",
    "    # binding residues have the following format: 'A_11'. We need to extract the numbers:\n",
    "    binding_site = [int(i.split('_')[1]) for i in binding_site]\n",
    "\n",
    "    parser = MMCIFParser(QUIET=True)\n",
    "    auth_structure = parser.get_structure(pdb_id, f\"{CRYPTOBENCH_PATH}/cryptobench-dataset/auxiliary-data/cif-files/{pdb_id.lower()}.cif\")\n",
    "\n",
    "    sequence = ''\n",
    "    sequence_binding_site = set()\n",
    "    counter = 0\n",
    "    for residue in auth_structure[0][chain_id].get_residues():\n",
    "        if residue.get_id()[0][0] == ' ':\n",
    "            sequence += protein_letters_3to1[residue.get_resname().title()]\n",
    "\n",
    "            seq_id = residue.get_id()[1]\n",
    "            if seq_id in binding_site:\n",
    "                sequence_binding_site.add(counter)\n",
    "            counter += 1\n",
    "\n",
    "    return sequence, sequence_binding_site\n",
    "\n",
    "sequence, sequence_binding_site = get_sequence_with_indices(pdb_id, chain_id, binding_residues)\n",
    "print(f'sequence:\\t{sequence}')\n",
    "print('indices of binding residues with corresponding amino acid:\\t', [f'{sequence[i]}{i}' for i in sorted(sequence_binding_site)])"
   ]
  },
  {
   "cell_type": "markdown",
   "metadata": {},
   "source": [
    "## HOW TO: Extract the non-cryptic BSs from the CryptoBench\n",
    "CryptoBench includes binding sites that did not meet crypticity criteria (stored separately in `cryptobench-dataset/auxiliary-data/non-cryptic-pockets/noncryptic-pockets.json`). Let’s retrieve these non-cryptic BSs using previous code snippets and explore two examples:\n",
    "1. A non-cryptic BS that is distinct from the cryptic binding site in the `1bhs` APO structure.\n",
    "2. Two overlapping binding site selections from the `3i8s` APO structure — one from the non-cryptic set and the other from the main (cryptic) CryptoBench set. Both selections bind the **same** ligand and represent the same site. However, we have two snapshots of this binding: one in a more flexible state (`3i8sB-3i8xA` apo-holo pair) and the other in a less flexible state (`3i8sB-3i8xC` apo-holo pair)."
   ]
  },
  {
   "cell_type": "code",
   "execution_count": 24,
   "metadata": {},
   "outputs": [
    {
     "name": "stdout",
     "output_type": "stream",
     "text": [
      "Two DISTINCT binding sites:\n",
      "cryptic BS: ['A_128', 'A_129', 'A_132', 'A_172', 'A_203', 'A_218', 'A_219']\n",
      "non-cryptic BS:['A_141', 'A_142', 'A_144', 'A_146', 'A_168', 'A_180', 'A_181', 'A_182', 'A_227']\n",
      "\n",
      "Two binding site selections with significant overlap, suggesting a single binding site observed in two states: one more flexible and the other less flexible:\n",
      "cryptic BS: ['B_11', 'B_12', 'B_13', 'B_14', 'B_15', 'B_16', 'B_17', 'B_18', 'B_120', 'B_121', 'B_123', 'B_124', 'B_148', 'B_149', 'B_150', 'B_151']\n",
      "non-cryptic BS:['B_11', 'B_12', 'B_120', 'B_121', 'B_122', 'B_123', 'B_124', 'B_13', 'B_14', 'B_15', 'B_16', 'B_17', 'B_18']\n"
     ]
    }
   ],
   "source": [
    "noncryptic_dataset = load_dataset(f'{CRYPTOBENCH_PATH}/cryptobench-dataset/auxiliary-data/non-cryptic-pockets/noncryptic-pockets.json')\n",
    "apo_noncryptic_binding_residues = get_apo_binding_residues(noncryptic_dataset)\n",
    "\n",
    "\n",
    "print(\"Two DISTINCT binding sites:\")\n",
    "print(f\"cryptic BS: {sorted(list(apo_binding_residues['3pbf']), key=lambda x: int(x.split('_')[1]))}\")\n",
    "print(f\"non-cryptic BS:{sorted(list(apo_noncryptic_binding_residues['3pbf']), key=lambda x: int(x.split('_')[1]))}\\n\")\n",
    "\n",
    "print(\"Two binding site selections with significant overlap, suggesting a single binding site observed in two states: one more flexible and the other less flexible:\")\n",
    "print(f\"cryptic BS: {sorted(list(apo_binding_residues['3i8s']), key=lambda x: int(x.split('_')[1]))}\")\n",
    "print(f\"non-cryptic BS:{sorted(list(apo_noncryptic_binding_residues['3i8s']), key=lambda x: int(x.split('_')[1]))}\")\n",
    "\n",
    "# overlapping 1arl-1bav ;;; 1rjb, 2w8n\n",
    "# distinct BSs 1bhs-1a27 ;;;1pt7"
   ]
  }
 ],
 "metadata": {
  "kernelspec": {
   "display_name": "Python 3",
   "language": "python",
   "name": "python3"
  },
  "language_info": {
   "codemirror_mode": {
    "name": "ipython",
    "version": 3
   },
   "file_extension": ".py",
   "mimetype": "text/x-python",
   "name": "python",
   "nbconvert_exporter": "python",
   "pygments_lexer": "ipython3",
   "version": "3.11.6"
  }
 },
 "nbformat": 4,
 "nbformat_minor": 2
}
